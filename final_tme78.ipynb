{
 "cells": [
  {
   "cell_type": "markdown",
   "metadata": {},
   "source": [
    "# AS - TME7-8\n",
    "2018--2019\n",
    "\n",
    "---\n",
    "\n",
    "Binome : Juliette Ortholand, Stieban Fernandez"
   ]
  },
  {
   "cell_type": "markdown",
   "metadata": {},
   "source": [
    "## Notes"
   ]
  },
  {
   "cell_type": "markdown",
   "metadata": {},
   "source": [
    "Modèles de séquence (réccurents)\n",
    "- Modèle sur les caractères (prédire classe)\n",
    "- Modèle génératif\n",
    "\n",
    "Données Page AS@DAC\n",
    "-> names (classes) :\n",
    "- english.txt\n",
    "- french.txt\n",
    "- italian.txt\n",
    "- ..."
   ]
  },
  {
   "cell_type": "markdown",
   "metadata": {},
   "source": [
    "Chaque caractère en 1-hot -> char-embedding\n",
    "\n",
    "Etat précédent : s0 s1, s2, ... application d'une fonction f\n",
    "\n",
    "+\n",
    "\n",
    "Classifieur\n",
    "\n",
    "On travaille avec des batchs\n",
    "\n",
    "-> remplir caractère vide par 0 par ex\n",
    "\n",
    "---\n",
    "\n",
    "Pour les modèles génératifs : longueur du prénom + 1 caractère pour déterminer la fin de la chaine :\n",
    "\n",
    "Appliquer un masque : 1 s'il y a un caractère (+ caractère de fin) sinon 0\n",
    "\n",
    "-> Prédire à chaque fois l'état (/caractère) suivant.\n",
    "\n",
    "Utilisation : \n",
    "- Est-ce que \"Pierre\" est un prénom anglais ? (Calcul de la vraisemblance)\n",
    "- Générer des prénoms\n",
    "\n",
    "---"
   ]
  },
  {
   "cell_type": "markdown",
   "metadata": {},
   "source": [
    "## Librairies utiles"
   ]
  },
  {
   "cell_type": "code",
   "execution_count": 89,
   "metadata": {},
   "outputs": [],
   "source": [
    "import torch\n",
    "import torch.nn as nn\n",
    "from unidecode import unidecode\n",
    "\n",
    "from torch.utils.data import Dataset, DataLoader\n",
    "import torchvision\n",
    "from torchvision import transforms\n",
    "\n",
    "import matplotlib.pyplot as plt\n",
    "\n",
    "from pathlib import Path\n",
    "# Parcourir les fichiers du répértoire avec glob('*.txt')\n",
    "\n",
    "import numpy as np\n",
    "from sklearn.model_selection import train_test_split\n",
    "\n",
    "from tqdm import tqdm\n",
    "import copy"
   ]
  },
  {
   "cell_type": "markdown",
   "metadata": {},
   "source": [
    "## Préparation des données"
   ]
  },
  {
   "cell_type": "code",
   "execution_count": 28,
   "metadata": {},
   "outputs": [],
   "source": [
    "#-------------------------------------------------------\n",
    "# Extraction des noms et labels\n",
    "#-------------------------------------------------------\n",
    "gen = Path(\"data/names\").glob(\"*.txt\")\n",
    "\n",
    "L = [] # [(nom, pays), ...]\n",
    "D = {} # {label(int): pays, ...}\n",
    "for label, file in enumerate(gen):\n",
    "    D[label] = file.stem\n",
    "    \n",
    "    with open(str(file), \"r\", encoding=\"utf-8\") as f:\n",
    "        names = f.read().split(\"\\n\")[:-1]\n",
    "    for name in names:\n",
    "        # Nettoyage\n",
    "        name = \"\".join([c for c in unidecode(name.lower()) if c.isalpha()])\n",
    "        L.append((name, label))\n",
    "\n",
    "#-------------------------------------------------------\n",
    "# Encodage\n",
    "#-------------------------------------------------------\n",
    "N = 27 # nombre de caractères différents pour le one hot\n",
    "\n",
    "code_char = lambda x: ord(x)-96\n",
    "\n",
    "decode_char = lambda x: chr(x+96)\n",
    "\n",
    "def encode_name(name, N, M=None):\n",
    "    # N : taille d'un vecteur one hot\n",
    "    # M : padding\n",
    "    res = torch.zeros((M if M!=None and M>len(name) else len(name)))\n",
    "    #res = torch.zeros((M if M!=None and M>len(name) else len(name)), N)\n",
    "    for i, c in enumerate(name):\n",
    "        res[i] = code_char(c)\n",
    "        #res[i, code_char(c)] = 1\n",
    "    #res[len(name):, 0] = 1\n",
    "    return res\n",
    "\n",
    "def decode_name(indxs):\n",
    "    return \"\".join([decode_char(indx) for indx in indxs if indx!=0])\n",
    "    #return \"\".join([decode_char(indx.argmax()) for indx in indxs if indx[0]!=1])\n",
    "\n",
    "#-------------------------------------------------------\n",
    "# Construction du DataSet \n",
    "#-------------------------------------------------------\n",
    "class NameDataset(Dataset):\n",
    "    def __init__(self, data):\n",
    "        self.data = data\n",
    "    \n",
    "    def __getitem__(self, index):\n",
    "        name, label = self.data[index]\n",
    "        return encode_name(name, N), int(label)\n",
    "    \n",
    "    def __len__(self):\n",
    "        return len(self.data)\n",
    "    \n",
    "#-------------------------------------------------------\n",
    "# DataLoader\n",
    "#-------------------------------------------------------\n",
    "\n",
    "def collate_fn(sequences):\n",
    "    length = max([len(x[0]) for x in sequences])\n",
    "    data = torch.zeros(len(sequences), length)\n",
    "    #data = torch.zeros(len(sequences), length, N)\n",
    "    target = torch.zeros(len(sequences))\n",
    "    for i, (name, label) in enumerate(sequences):\n",
    "        data[i, :len(name)] = name\n",
    "        #data[i, len(name):, 0] = 1 # padding pour s'adapter aux dimensions du batch\n",
    "        data[i, len(name):] = 0\n",
    "        target[i] = label\n",
    "    return data, target\n",
    "        \n",
    "    \n",
    "def get_data_loader(dataset, batch_size):\n",
    "    return DataLoader(dataset=dataset, batch_size=batch_size, shuffle=True, \\\n",
    "                         collate_fn=collate_fn)\n",
    "\n",
    "#-------------------------------------------------------\n",
    "# Split Train Val\n",
    "#-------------------------------------------------------\n",
    "\n",
    "X, y = np.array(L).T\n",
    "Xtrain, Xval, ytrain, yval = train_test_split(X, y)\n",
    "\n",
    "train_set = NameDataset(np.vstack((Xtrain, ytrain)).T)\n",
    "val_set = NameDataset(np.vstack((Xval, yval)).T)\n",
    "\n",
    "train_iter = get_data_loader(train_set, 150)\n",
    "val_iter = get_data_loader(val_set, 150)"
   ]
  },
  {
   "cell_type": "code",
   "execution_count": 29,
   "metadata": {
    "scrolled": true
   },
   "outputs": [
    {
     "data": {
      "text/plain": [
       "'pierre'"
      ]
     },
     "execution_count": 29,
     "metadata": {},
     "output_type": "execute_result"
    }
   ],
   "source": [
    "decode_name(encode_name(\"pierre\", N, 19))"
   ]
  },
  {
   "cell_type": "code",
   "execution_count": 30,
   "metadata": {
    "scrolled": true
   },
   "outputs": [
    {
     "name": "stdout",
     "output_type": "stream",
     "text": [
      "torch.Size([150, 14]) torch.Size([150])\n"
     ]
    }
   ],
   "source": [
    "for x, y in train_iter:\n",
    "    ex, lab = x, y\n",
    "    print(x.shape, y.shape)\n",
    "    break"
   ]
  },
  {
   "cell_type": "markdown",
   "metadata": {},
   "source": [
    "---"
   ]
  },
  {
   "cell_type": "markdown",
   "metadata": {},
   "source": [
    "## Reccurent Neural Network"
   ]
  },
  {
   "cell_type": "markdown",
   "metadata": {},
   "source": [
    "### Modèle"
   ]
  },
  {
   "cell_type": "code",
   "execution_count": 117,
   "metadata": {},
   "outputs": [],
   "source": [
    "class RNN(nn.Module):\n",
    "    def __init__(self, input_size, hidden_size, output_size):\n",
    "        super(RNN, self).__init__()\n",
    "\n",
    "        self.hidden_size = hidden_size\n",
    "        \n",
    "        self.emb = nn.Embedding(27,input_size)\n",
    "        \n",
    "        self.linx = nn.Linear(input_size, hidden_size)\n",
    "        self.linh = nn.Linear(hidden_size, hidden_size)\n",
    "        self.activ = nn.ReLU()\n",
    "        self.liny = nn.Linear(hidden_size, output_size)\n",
    "        \n",
    "    def forward(self, seq):\n",
    "        # seq : (seq_length, batch_size)\n",
    "        \n",
    "        emb_seq = self.emb(seq)\n",
    "        output = self.initHidden()\n",
    "        \n",
    "        for _input in emb_seq:\n",
    "            output = self.activ(self.linx(_input) + self.linh(output))\n",
    "        output = self.liny(output)\n",
    "        \n",
    "        return output\n",
    "\n",
    "    def initHidden(self):\n",
    "        return torch.zeros(1, self.hidden_size)\n",
    "\n",
    "input_size, hidden_size, output_size = 50, 110, len(D)"
   ]
  },
  {
   "cell_type": "code",
   "execution_count": 118,
   "metadata": {
    "scrolled": true
   },
   "outputs": [
    {
     "name": "stdout",
     "output_type": "stream",
     "text": [
      "samaha : Czech\n",
      "sinagra : Czech\n",
      "dyer : Czech\n",
      "russov : Czech\n",
      "finn : Czech\n",
      "pochinok : Czech\n",
      "baggovut : Czech\n",
      "anorin : Czech\n",
      "vasyakin : Czech\n",
      "ullmann : Czech\n",
      "muraguchi : Czech\n",
      "arian : Czech\n",
      "molin : Czech\n",
      "vaniev : Czech\n",
      "shalhoub : Czech\n",
      "shikuk : Czech\n",
      "shelyuh : Czech\n",
      "avdiysky : Czech\n",
      "mccormack : Czech\n",
      "tomeev : Czech\n",
      "dobrjansky : Czech\n",
      "gershkovich : Czech\n",
      "tsyavlovsky : Czech\n",
      "agafonoff : Czech\n",
      "rzheshotarsky : Czech\n",
      "rekitar : Czech\n",
      "walls : Czech\n",
      "tarantino : Czech\n",
      "troepolsky : Czech\n",
      "yamana : Czech\n",
      "romao : Czech\n",
      "sherriff : Czech\n",
      "vonbrandt : Czech\n",
      "grushi : Czech\n",
      "tsujimoto : Czech\n",
      "valikov : Czech\n",
      "fischer : Czech\n",
      "protopsaltis : Czech\n",
      "turaev : Czech\n",
      "belotsitsky : Czech\n",
      "balakhowsky : Czech\n",
      "pan : Czech\n",
      "jinkin : Czech\n",
      "molchansky : Czech\n",
      "yamov : Czech\n",
      "grushikhin : Czech\n",
      "roncalli : Czech\n",
      "atiyeh : Czech\n",
      "arian : Czech\n",
      "diaz : Czech\n",
      "ali : Czech\n",
      "badmaev : Czech\n",
      "jung : Czech\n",
      "crawley : Czech\n",
      "horujenko : Czech\n",
      "moreno : Czech\n",
      "mahno : Czech\n",
      "chikanatsu : Czech\n",
      "bahshiev : Czech\n",
      "gaskell : Czech\n",
      "adoratsky : Czech\n",
      "abudikhin : Czech\n",
      "jankov : Czech\n",
      "oliver : Czech\n",
      "mokievsky : Czech\n",
      "jervis : Czech\n",
      "antonts : Czech\n",
      "finferovy : Czech\n",
      "kabalevsky : Czech\n",
      "liverovsky : Czech\n",
      "pokhmelnyh : Czech\n",
      "sabbag : Czech\n",
      "urbanovska : Czech\n",
      "vaksel : Czech\n",
      "schuchert : Czech\n",
      "abdulgapuroff : Czech\n",
      "asher : Czech\n",
      "delaney : Czech\n",
      "vasyukov : Czech\n",
      "vitoshnov : Czech\n",
      "hirata : Czech\n",
      "kalachinsky : Czech\n",
      "tothefirstpage : German\n",
      "falsh : Czech\n",
      "jankov : Czech\n",
      "bachinsky : Czech\n",
      "soucek : Czech\n",
      "jakushkin : Czech\n",
      "adler : Czech\n",
      "fabrichnov : Czech\n",
      "shaldenkov : Czech\n",
      "pallett : Czech\n",
      "nakajima : Czech\n",
      "wei : Czech\n",
      "ouchi : Czech\n",
      "jewell : Czech\n",
      "sailotov : Czech\n",
      "sakov : Czech\n",
      "schmied : Czech\n",
      "martin : Czech\n",
      "raihman : Czech\n",
      "allum : Czech\n",
      "antar : Czech\n",
      "apeldoorn : Czech\n",
      "jankin : Czech\n",
      "accosi : Czech\n",
      "munster : Czech\n",
      "armbruster : Czech\n",
      "babilyas : Czech\n",
      "birut : Czech\n",
      "becker : Czech\n",
      "kassis : Czech\n",
      "perks : Czech\n",
      "shaidakov : Czech\n",
      "chepik : Czech\n",
      "vaculova : Czech\n",
      "demas : Czech\n",
      "nagase : Czech\n",
      "schwangau : Czech\n",
      "showell : Czech\n",
      "kalihov : Czech\n",
      "vallakh : Czech\n",
      "botros : Czech\n",
      "bahar : Czech\n",
      "chadrantsev : Czech\n",
      "ando : Czech\n",
      "antonowitz : Czech\n",
      "docherty : Czech\n",
      "novoselsky : Czech\n",
      "anutriev : Czech\n",
      "redman : Czech\n",
      "timberlake : Czech\n",
      "aldersley : Czech\n",
      "nurtdinov : Czech\n",
      "vavilin : Czech\n",
      "abeln : Czech\n",
      "hajjar : Czech\n",
      "nakao : Czech\n",
      "botros : Czech\n",
      "abbascia : Czech\n",
      "huffmann : Czech\n",
      "zhabin : Czech\n",
      "emyashev : Czech\n",
      "mischenko : Czech\n",
      "attwood : Czech\n",
      "holder : Czech\n",
      "martyuk : Czech\n",
      "pekhterev : Czech\n",
      "bakhtiyarov : Czech\n",
      "samaha : Czech\n"
     ]
    }
   ],
   "source": [
    "# TEST\n",
    "model = RNN(input_size, hidden_size, output_size)\n",
    "out = model(ex.transpose(0,1).long())\n",
    "\n",
    "for i, e in enumerate(out):\n",
    "    print(decode_name(ex[i]), \":\", D[e.argmax().item()])"
   ]
  },
  {
   "cell_type": "markdown",
   "metadata": {},
   "source": [
    "### Classification"
   ]
  },
  {
   "cell_type": "code",
   "execution_count": 33,
   "metadata": {},
   "outputs": [],
   "source": [
    "model = RNN(input_size, hidden_size, output_size)\n",
    "loss = nn.CrossEntropyLoss()\n",
    "optim = torch.optim.Adam(model.parameters(), lr=1e-3)\n",
    "n_epochs = 20\n",
    "\n",
    "def accuracy(ypred, y):\n",
    "    ### Calcul du score\n",
    "    return (ypred.argmax(dim=1) == y).float().mean()\n",
    "\n",
    "def fit_eval_rnn(model, loss, optim, train_iter, val_iter, n_epochs):\n",
    "    train_loss = []\n",
    "    train_score = []\n",
    "    val_loss = []\n",
    "    val_score = []\n",
    "\n",
    "    ### APPRENTISSAGE\n",
    "    #--------------------------------------------------------\n",
    "    for i in tqdm(range(n_epochs)):\n",
    "        \n",
    "        model.train()\n",
    "        ####### TRAIN #######\n",
    "        costs_train = []\n",
    "        scores_train = []\n",
    "        for x, l in train_iter:\n",
    "\n",
    "            x = x.transpose(0,1).long()\n",
    "            l = l.long()\n",
    "\n",
    "            out = model(x)\n",
    "            cost = loss(out, l)\n",
    "            optim.zero_grad()\n",
    "            cost.backward()\n",
    "            optim.step()\n",
    "\n",
    "            costs_train.append(cost)\n",
    "            scores_train.append(accuracy(out, l))\n",
    "\n",
    "        train_loss.append(torch.tensor(costs_train).mean())\n",
    "        train_score.append(torch.tensor(scores_train).mean())\n",
    "\n",
    "        model.eval()\n",
    "        ####### VALID #######\n",
    "        costs_val = []\n",
    "        scores_val = []\n",
    "        for x, l in val_iter:\n",
    "            x = x.transpose(0,1).long()\n",
    "            l = l.long()\n",
    "\n",
    "            out = model(x)\n",
    "            cost = loss(out, l)\n",
    "\n",
    "            costs_val.append(cost)\n",
    "            scores_val.append(accuracy(out, l))\n",
    "\n",
    "        val_loss.append(torch.tensor(costs_val).mean())\n",
    "        val_score.append(torch.tensor(scores_val).mean())\n",
    "        \n",
    "    return train_loss, val_loss, train_score, val_score\n",
    "\n",
    "\n",
    "def show_loss_score(train_loss, val_loss, train_score, val_score):\n",
    "    ### AFFICHAGE LOSS ET SCORE\n",
    "    #--------------------------------------------------------\n",
    "    plt.figure(figsize=(10,7))\n",
    "    plt.plot(train_loss, c=\"red\", label=\"train\")\n",
    "    plt.plot(val_loss, c=\"b\", label=\"val\")\n",
    "    plt.legend(loc=\"best\")\n",
    "    plt.show()\n",
    "\n",
    "    plt.figure(figsize=(10,7))\n",
    "    plt.plot(train_score, c=\"red\", label=\"train\")\n",
    "    plt.plot(val_score, c=\"b\", label=\"val\")\n",
    "    plt.legend(loc=\"best\")\n",
    "    plt.show()"
   ]
  },
  {
   "cell_type": "code",
   "execution_count": 34,
   "metadata": {
    "scrolled": false
   },
   "outputs": [
    {
     "name": "stderr",
     "output_type": "stream",
     "text": [
      "100%|██████████████████████████████████████████| 20/20 [02:45<00:00,  8.02s/it]\n"
     ]
    },
    {
     "data": {
      "image/png": "[encoded data removed]",
      "text/plain": [
       "<Figure size 720x504 with 1 Axes>"
      ]
     },
     "metadata": {},
     "output_type": "display_data"
    },
    {
     "data": {
      "image/png": "[encoded data removed]",
      "text/plain": [
       "<Figure size 720x504 with 1 Axes>"
      ]
     },
     "metadata": {},
     "output_type": "display_data"
    }
   ],
   "source": [
    "res = fit_eval_rnn(model, loss, optim, train_iter, val_iter, n_epochs)\n",
    "show_loss_score(*res)"
   ]
  },
  {
   "cell_type": "code",
   "execution_count": 35,
   "metadata": {},
   "outputs": [
    {
     "data": {
      "text/plain": [
       "Counter({'4': 3668,\n",
       "         '16': 298,\n",
       "         '14': 9408,\n",
       "         '0': 2000,\n",
       "         '5': 277,\n",
       "         '2': 519,\n",
       "         '9': 709,\n",
       "         '6': 724,\n",
       "         '7': 203,\n",
       "         '12': 139,\n",
       "         '17': 73,\n",
       "         '3': 297,\n",
       "         '10': 991,\n",
       "         '1': 268,\n",
       "         '11': 94,\n",
       "         '13': 74,\n",
       "         '8': 232,\n",
       "         '15': 100})"
      ]
     },
     "execution_count": 35,
     "metadata": {},
     "output_type": "execute_result"
    }
   ],
   "source": [
    "import collections\n",
    "\n",
    "collections.Counter(list(ytrain)+list(yval))"
   ]
  },
  {
   "cell_type": "markdown",
   "metadata": {},
   "source": [
    "Résultat biaisé car certaines classes contiennent plus d'exemples que d'autres\n",
    "\n",
    "--> Preprocessing nécessaire : rebalancage des classes pour l'apprentissage\n",
    "\n",
    "---"
   ]
  },
  {
   "cell_type": "markdown",
   "metadata": {},
   "source": [
    "## Génération"
   ]
  },
  {
   "cell_type": "markdown",
   "metadata": {},
   "source": [
    "Deux méthodes d'apprentissage possibles :\n",
    "- Apprendre seulement des prénoms d'un pays\n",
    "- Apprentissage générique (tous les pays) --> possiblement en injectant la catégorie (voir tuto Pytorch)\n",
    "\n",
    "Ci-dessous nous utilisons la première méthode."
   ]
  },
  {
   "cell_type": "markdown",
   "metadata": {},
   "source": [
    "### Modèle"
   ]
  },
  {
   "cell_type": "code",
   "execution_count": 150,
   "metadata": {},
   "outputs": [],
   "source": [
    "class RNN2(nn.Module):\n",
    "    def __init__(self, input_size, hidden_size, output_size):\n",
    "        super(RNN2, self).__init__()\n",
    "\n",
    "        self.hidden_size = hidden_size\n",
    "        \n",
    "        self.emb = nn.Embedding(27,input_size)\n",
    "        \n",
    "        self.linx = nn.Linear(input_size, hidden_size)\n",
    "        self.linh = nn.Linear(hidden_size, hidden_size)\n",
    "        self.activ = nn.ReLU()\n",
    "        self.liny = nn.Linear(hidden_size, output_size)\n",
    "        \n",
    "    def forward(self, x, hidden):\n",
    "        # x : (batch_size)\n",
    "        \n",
    "        emb_x = self.emb(x)\n",
    "        hidden = self.activ(self.linx(emb_x) + self.linh(hidden))\n",
    "        output = self.liny(hidden)\n",
    "        return output, hidden\n",
    "\n",
    "    def initHidden(self):\n",
    "        return torch.zeros(1, self.hidden_size)\n",
    "\n",
    "input_size, hidden_size, output_size = 50, 110, 27\n",
    "model = RNN2(input_size, hidden_size, output_size)"
   ]
  },
  {
   "cell_type": "code",
   "execution_count": 151,
   "metadata": {},
   "outputs": [
    {
     "name": "stdout",
     "output_type": "stream",
     "text": [
      "torch.Size([2, 27]) torch.Size([2, 110])\n"
     ]
    }
   ],
   "source": [
    "# TEST\n",
    "output, hidden = model(torch.tensor([1, 2]), model.initHidden())\n",
    "print(output.shape, hidden.shape)"
   ]
  },
  {
   "cell_type": "markdown",
   "metadata": {},
   "source": [
    "### Apprentissage"
   ]
  },
  {
   "cell_type": "markdown",
   "metadata": {},
   "source": [
    "Commencons par entrainer les prénoms appartenant à un pays spécifique\n",
    "\n",
    "$ \\rightarrow $ Obtenir un Dataset ne contenant que des noms d'un pays"
   ]
  },
  {
   "cell_type": "code",
   "execution_count": 152,
   "metadata": {},
   "outputs": [],
   "source": [
    "def get_dataloaders_country(country, batch_size=32):\n",
    "    L_country = [x for x in L if x[1] == country]\n",
    "\n",
    "    X, y = np.array(L_country).T\n",
    "    Xtrain, Xval, ytrain, yval = train_test_split(X, y)\n",
    "\n",
    "    train_set = NameDataset(np.vstack((Xtrain, ytrain)).T)\n",
    "    val_set = NameDataset(np.vstack((Xval, yval)).T)\n",
    "\n",
    "    train_iter = get_data_loader(train_set, batch_size)\n",
    "    val_iter = get_data_loader(val_set, batch_size)\n",
    "    \n",
    "    return train_iter, val_iter"
   ]
  },
  {
   "cell_type": "code",
   "execution_count": 153,
   "metadata": {},
   "outputs": [],
   "source": [
    "def accuracy(ypred, y):\n",
    "    ### Calcul du score\n",
    "    return (ypred.argmax(dim=1) == y).float().mean()\n",
    "\n",
    "\n",
    "def fit_eval_rnn_gen(model, loss, optim, train_iter, val_iter, n_epochs):\n",
    "    train_loss = []\n",
    "    train_score = []\n",
    "    val_loss = []\n",
    "    val_score = []\n",
    "\n",
    "    ### APPRENTISSAGE\n",
    "    #--------------------------------------------------------\n",
    "    for i in tqdm(range(n_epochs)):\n",
    "        \n",
    "        model.train()\n",
    "        ####### TRAIN #######\n",
    "        costs_train = []\n",
    "        scores_train = []\n",
    "        for x, l in train_iter:\n",
    "\n",
    "            x = x.transpose(0,1).long()\n",
    "            \n",
    "            hidden = model.initHidden()\n",
    "            for i in range(len(x)-1):\n",
    "                c, next_c = x[i], x[i+1]\n",
    "                \n",
    "                out, hidden = model(c, hidden)\n",
    "                cost = loss(out, next_c)\n",
    "                \n",
    "                optim.zero_grad()\n",
    "                cost.backward(retain_graph=True)\n",
    "                optim.step()\n",
    "                \n",
    "\n",
    "                costs_train.append(cost)\n",
    "                scores_train.append(accuracy(out, next_c))\n",
    "\n",
    "        train_loss.append(torch.tensor(costs_train).mean())\n",
    "        train_score.append(torch.tensor(scores_train).mean())\n",
    "\n",
    "        model.eval()\n",
    "        ####### VALID #######\n",
    "        costs_val = []\n",
    "        scores_val = []\n",
    "        for x, l in val_iter:\n",
    "            x = x.transpose(0,1).long()\n",
    "            \n",
    "            hidden = model.initHidden()\n",
    "            for i in range(len(x)-1):\n",
    "                c, next_c = x[i], x[i+1]\n",
    "                \n",
    "                out, hidden = model(c, hidden)\n",
    "                cost = loss(out, next_c)\n",
    "\n",
    "                costs_val.append(cost)\n",
    "                scores_val.append(accuracy(out, next_c))\n",
    "\n",
    "        val_loss.append(torch.tensor(costs_val).mean())\n",
    "        val_score.append(torch.tensor(scores_val).mean())\n",
    "        \n",
    "    return train_loss, val_loss, train_score, val_score"
   ]
  },
  {
   "cell_type": "markdown",
   "metadata": {},
   "source": [
    "Test avec différents pays"
   ]
  },
  {
   "cell_type": "markdown",
   "metadata": {},
   "source": [
    "1. Noms chinois"
   ]
  },
  {
   "cell_type": "code",
   "execution_count": 154,
   "metadata": {},
   "outputs": [
    {
     "name": "stderr",
     "output_type": "stream",
     "text": [
      "100%|██████████████████████████████████████████| 20/20 [00:01<00:00, 14.99it/s]\n"
     ]
    },
    {
     "data": {
      "image/png": "[encoded data removed]",
      "text/plain": [
       "<Figure size 720x504 with 1 Axes>"
      ]
     },
     "metadata": {},
     "output_type": "display_data"
    },
    {
     "data": {
      "image/png": "[encoded data removed]",
      "text/plain": [
       "<Figure size 720x504 with 1 Axes>"
      ]
     },
     "metadata": {},
     "output_type": "display_data"
    }
   ],
   "source": [
    "model = RNN2(input_size, hidden_size, output_size)\n",
    "loss = nn.CrossEntropyLoss()\n",
    "optim = torch.optim.Adam(model.parameters(), lr=1e-3)\n",
    "n_epochs = 20\n",
    "\n",
    "train_iter, val_iter = get_dataloaders_country(11)\n",
    "res = fit_eval_rnn_gen(model, loss, optim, train_iter, val_iter, n_epochs)\n",
    "show_loss_score(*res)"
   ]
  },
  {
   "cell_type": "code",
   "execution_count": 155,
   "metadata": {},
   "outputs": [],
   "source": [
    "def generate_name(model, letter, maxlen=10):\n",
    "    letter = encode_name(letter, 1).long()\n",
    "    s = [letter]\n",
    "    hidden = model.initHidden()\n",
    "    \n",
    "    for i in range(maxlen):\n",
    "        out, hidden = model(letter, hidden)\n",
    "        letter = out.argmax(1)\n",
    "        s.append(letter)\n",
    "    return decode_name(s)"
   ]
  },
  {
   "cell_type": "code",
   "execution_count": 169,
   "metadata": {},
   "outputs": [],
   "source": [
    "def generate_beam_name(model, letter,options = 3, maxlen=10):\n",
    "    letter = encode_name(letter, 1).long()\n",
    "    s = [letter]\n",
    "    wd = [(letter,1)]\n",
    "    hidden = model.initHidden()\n",
    "    \n",
    "    for i in range(maxlen):\n",
    "        new_wd = []\n",
    "        for (let,prob) in wd : \n",
    "            out, hidden = model(let[-1], hidden)\n",
    "            probs, inds = torch.sort(out, dim=1 ,descending = True)\n",
    "            for i in range(0,options):\n",
    "                new_wd.append((torch.cat([let,inds[:,i]]),prob*probs[0,i]))\n",
    "        wd = copy.copy(new_wd)\n",
    "        wd.sort(key=lambda tup: tup[1],reverse = True)\n",
    "        wd = wd[:5]\n",
    "    return decode_name(wd[0][0])"
   ]
  },
  {
   "cell_type": "code",
   "execution_count": 170,
   "metadata": {},
   "outputs": [],
   "source": [
    "alphabet = \"abcdefghijklmnopqrstuvwxyz\""
   ]
  },
  {
   "cell_type": "code",
   "execution_count": 173,
   "metadata": {},
   "outputs": [
    {
     "name": "stdout",
     "output_type": "stream",
     "text": [
      "ang\n",
      "bang\n",
      "chon\n",
      "dang\n",
      "eong\n",
      "fang\n",
      "gwang\n",
      "heeo\n",
      "im\n",
      "jeon\n",
      "koo\n",
      "lhi\n",
      "mo\n",
      "ng\n",
      "oo\n",
      "pak\n",
      "qang\n",
      "rhee\n",
      "soo\n",
      "tang\n",
      "ung\n",
      "vong\n",
      "wang\n",
      "xon\n",
      "yoon\n",
      "zon\n"
     ]
    }
   ],
   "source": [
    "for l in alphabet:\n",
    "    print(generate_name(model, l, 7))"
   ]
  },
  {
   "cell_type": "code",
   "execution_count": 174,
   "metadata": {},
   "outputs": [
    {
     "name": "stdout",
     "output_type": "stream",
     "text": [
      "ai\n",
      "bh\n",
      "chi\n",
      "do\n",
      "eh\n",
      "fe\n",
      "g\n",
      "hee\n",
      "ik\n",
      "jeo\n",
      "kw\n",
      "lo\n",
      "moo\n",
      "no\n",
      "oo\n",
      "par\n",
      "qan\n",
      "rhe\n",
      "si\n",
      "to\n",
      "un\n",
      "va\n",
      "wo\n",
      "xu\n",
      "yoo\n",
      "ze\n"
     ]
    }
   ],
   "source": [
    "for l in alphabet:\n",
    "    print(generate_beam_name(model, l, 7))"
   ]
  },
  {
   "cell_type": "markdown",
   "metadata": {},
   "source": [
    "2. Noms français"
   ]
  },
  {
   "cell_type": "code",
   "execution_count": 176,
   "metadata": {},
   "outputs": [
    {
     "name": "stderr",
     "output_type": "stream",
     "text": [
      "100%|██████████████████████████████████████████| 20/20 [00:09<00:00,  2.29it/s]\n"
     ]
    },
    {
     "data": {
      "image/png": "[encoded data removed]",
      "text/plain": [
       "<Figure size 720x504 with 1 Axes>"
      ]
     },
     "metadata": {},
     "output_type": "display_data"
    },
    {
     "data": {
      "image/png": "[encoded data removed]",
      "text/plain": [
       "<Figure size 720x504 with 1 Axes>"
      ]
     },
     "metadata": {},
     "output_type": "display_data"
    },
    {
     "name": "stdout",
     "output_type": "stream",
     "text": [
      "armon\n",
      "bouchard\n",
      "courgey\n",
      "deniaud\n",
      "erroin\n",
      "four\n",
      "gagnon\n",
      "herriot\n",
      "ile\n",
      "jarkozi\n",
      "komard\n",
      "leclarr\n",
      "martin\n",
      "netue\n",
      "oulin\n",
      "partin\n",
      "quet\n",
      "roy\n",
      "sauvageot\n",
      "traver\n",
      "uroin\n",
      "victor\n",
      "wourger\n",
      "x\n",
      "yer\n",
      "zromilly\n"
     ]
    }
   ],
   "source": [
    "model = RNN2(input_size, hidden_size, output_size)\n",
    "loss = nn.CrossEntropyLoss()\n",
    "optim = torch.optim.Adam(model.parameters(), lr=1e-3)\n",
    "n_epochs = 20\n",
    "\n",
    "train_iter, val_iter = get_dataloaders_country(5)\n",
    "res = fit_eval_rnn_gen(model, loss, optim, train_iter, val_iter, n_epochs)\n",
    "show_loss_score(*res)\n",
    "\n",
    "for l in alphabet:\n",
    "    print(generate_name(model, l))"
   ]
  },
  {
   "cell_type": "code",
   "execution_count": 178,
   "metadata": {},
   "outputs": [
    {
     "name": "stdout",
     "output_type": "stream",
     "text": [
      "al\n",
      "beno\n",
      "che\n",
      "dele\n",
      "ele\n",
      "for\n",
      "gagu\n",
      "her\n",
      "ile\n",
      "jou\n",
      "kgu\n",
      "lal\n",
      "mar\n",
      "naly\n",
      "ouc\n",
      "pe\n",
      "que\n",
      "roy\n",
      "solo\n",
      "trau\n",
      "uche\n",
      "vic\n",
      "wou\n",
      "x\n",
      "y\n",
      "zre\n"
     ]
    }
   ],
   "source": [
    "for l in alphabet:\n",
    "    print(generate_beam_name(model, l))"
   ]
  },
  {
   "cell_type": "markdown",
   "metadata": {},
   "source": [
    "3. Noms italiens"
   ]
  },
  {
   "cell_type": "code",
   "execution_count": 46,
   "metadata": {},
   "outputs": [
    {
     "name": "stderr",
     "output_type": "stream",
     "text": [
      "100%|██████████████████████████████████████████| 20/20 [00:21<00:00,  1.08s/it]\n"
     ]
    },
    {
     "data": {
      "image/png": "[encoded data removed]",
      "text/plain": [
       "<Figure size 720x504 with 1 Axes>"
      ]
     },
     "metadata": {},
     "output_type": "display_data"
    },
    {
     "data": {
      "image/png": "[encoded data removed]",
      "text/plain": [
       "<Figure size 720x504 with 1 Axes>"
      ]
     },
     "metadata": {},
     "output_type": "display_data"
    },
    {
     "name": "stdout",
     "output_type": "stream",
     "text": [
      "alessi\n",
      "bagni\n",
      "carracci\n",
      "dinapoli\n",
      "ermica\n",
      "ferraro\n",
      "garofato\n",
      "hinapo\n",
      "iardi\n",
      "jermi\n",
      "kalessi\n",
      "lagona\n",
      "marini\n",
      "napoleta\n",
      "oretti\n",
      "parma\n",
      "quattrocchi\n",
      "romagna\n",
      "sarto\n",
      "tamaro\n",
      "uggi\n",
      "veronesi\n",
      "wardi\n",
      "xarone\n",
      "yiancimbene\n",
      "zangari\n"
     ]
    }
   ],
   "source": [
    "model = RNN2(input_size, hidden_size, output_size)\n",
    "loss = nn.CrossEntropyLoss()\n",
    "optim = torch.optim.Adam(model.parameters(), lr=1e-3)\n",
    "n_epochs = 20\n",
    "\n",
    "train_iter, val_iter = get_dataloaders_country(9)\n",
    "res = fit_eval_rnn_gen(model, loss, optim, train_iter, val_iter, n_epochs)\n",
    "show_loss_score(*res)\n",
    "\n",
    "for l in alphabet:\n",
    "    print(generate_name(model, l))"
   ]
  },
  {
   "cell_type": "code",
   "execution_count": 47,
   "metadata": {},
   "outputs": [
    {
     "data": {
      "text/plain": [
       "Ellipsis"
      ]
     },
     "execution_count": 47,
     "metadata": {},
     "output_type": "execute_result"
    }
   ],
   "source": [
    "..."
   ]
  },
  {
   "cell_type": "markdown",
   "metadata": {},
   "source": [
    "### Autres méthodes pour la construction des batchs"
   ]
  },
  {
   "cell_type": "code",
   "execution_count": null,
   "metadata": {},
   "outputs": [],
   "source": []
  }
 ],
 "metadata": {
  "kernelspec": {
   "display_name": "Python 3",
   "language": "python",
   "name": "python3"
  },
  "language_info": {
   "codemirror_mode": {
    "name": "ipython",
    "version": 3
   },
   "file_extension": ".py",
   "mimetype": "text/x-python",
   "name": "python",
   "nbconvert_exporter": "python",
   "pygments_lexer": "ipython3",
   "version": "3.6.5"
  }
 },
 "nbformat": 4,
 "nbformat_minor": 2
}

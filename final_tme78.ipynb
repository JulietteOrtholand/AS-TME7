{
 "cells": [
  {
   "cell_type": "markdown",
   "metadata": {},
   "source": [
    "# AS - TME7-8\n",
    "2018--2019\n",
    "\n",
    "---\n",
    "\n",
    "Binome : Juliette Ortholand, Stieban Fernandez"
   ]
  },
  {
   "cell_type": "markdown",
   "metadata": {},
   "source": [
    "## Notes"
   ]
  },
  {
   "cell_type": "markdown",
   "metadata": {},
   "source": [
    "Modèles de séquence (réccurents)\n",
    "- Modèle sur les caractères (prédire classe)\n",
    "- Modèle génératif\n",
    "\n",
    "Données Page AS@DAC\n",
    "-> names (classes) :\n",
    "- english.txt\n",
    "- french.txt\n",
    "- italian.txt\n",
    "- ..."
   ]
  },
  {
   "cell_type": "markdown",
   "metadata": {},
   "source": [
    "Chaque caractère en 1-hot -> char-embedding\n",
    "\n",
    "Etat précédent : s0 s1, s2, ... application d'une fonction f\n",
    "\n",
    "+\n",
    "\n",
    "Classifieur\n",
    "\n",
    "On travaille avec des batchs\n",
    "\n",
    "-> remplir caractère vide par 0 par ex\n",
    "\n",
    "---\n",
    "\n",
    "Pour les modèles génératifs : longueur du prénom + 1 caractère pour déterminer la fin de la chaine :\n",
    "\n",
    "Appliquer un masque : 1 s'il y a un caractère (+ caractère de fin) sinon 0\n",
    "\n",
    "-> Prédire à chaque fois l'état (/caractère) suivant.\n",
    "\n",
    "Utilisation : \n",
    "- Est-ce que \"Pierre\" est un prénom anglais ? (Calcul de la vraisemblance)\n",
    "- Générer des prénoms\n",
    "\n",
    "---"
   ]
  },
  {
   "cell_type": "markdown",
   "metadata": {},
   "source": [
    "## Librairies utiles"
   ]
  },
  {
   "cell_type": "code",
   "execution_count": 3,
   "metadata": {},
   "outputs": [],
   "source": [
    "import torch\n",
    "import torch.nn as nn\n",
    "from unidecode import unidecode\n",
    "\n",
    "from torch.utils.data import Dataset, DataLoader\n",
    "import torchvision\n",
    "from torchvision import transforms\n",
    "\n",
    "import matplotlib.pyplot as plt\n",
    "\n",
    "from pathlib import Path\n",
    "# Parcourir les fichiers du répértoire avec glob('*.txt')\n",
    "\n",
    "import numpy as np\n",
    "from sklearn.model_selection import train_test_split\n",
    "\n",
    "from tqdm import tqdm"
   ]
  },
  {
   "cell_type": "markdown",
   "metadata": {},
   "source": [
    "## Préparation des données"
   ]
  },
  {
   "cell_type": "code",
   "execution_count": 4,
   "metadata": {},
   "outputs": [],
   "source": [
    "#-------------------------------------------------------\n",
    "# Extraction des noms et labels\n",
    "#-------------------------------------------------------\n",
    "gen = Path(\"data/names\").glob(\"*.txt\")\n",
    "\n",
    "L = [] # [(nom, pays), ...]\n",
    "D = {} # {label(int): pays, ...}\n",
    "for label, file in enumerate(gen):\n",
    "    D[label] = file.stem\n",
    "    \n",
    "    with open(str(file), \"r\", encoding=\"utf-8\") as f:\n",
    "        names = f.read().split(\"\\n\")[:-1]\n",
    "    for name in names:\n",
    "        # Nettoyage\n",
    "        name = \"\".join([c for c in unidecode(name.lower()) if c.isalpha()])\n",
    "        L.append((name, label))\n",
    "\n",
    "#-------------------------------------------------------\n",
    "# Encodage\n",
    "#-------------------------------------------------------\n",
    "N = 27 # nombre de caractères différents pour le one hot\n",
    "\n",
    "code_char = lambda x: ord(x)-96\n",
    "\n",
    "decode_char = lambda x: chr(x+96)\n",
    "\n",
    "def encode_name(name, N, M=None):\n",
    "    # N : taille d'un vecteur one hot\n",
    "    # M : padding\n",
    "    res = torch.zeros((M if M!=None and M>len(name) else len(name)))\n",
    "    #res = torch.zeros((M if M!=None and M>len(name) else len(name)), N)\n",
    "    for i, c in enumerate(name):\n",
    "        res[i] = code_char(c)\n",
    "        #res[i, code_char(c)] = 1\n",
    "    #res[len(name):, 0] = 1\n",
    "    return res\n",
    "\n",
    "def decode_name(indxs):\n",
    "    return \"\".join([decode_char(indx) for indx in indxs if indx!=0])\n",
    "    #return \"\".join([decode_char(indx.argmax()) for indx in indxs if indx[0]!=1])\n",
    "\n",
    "#-------------------------------------------------------\n",
    "# Construction du DataSet \n",
    "#-------------------------------------------------------\n",
    "class NameDataset(Dataset):\n",
    "    def __init__(self, data):\n",
    "        self.data = data\n",
    "    \n",
    "    def __getitem__(self, index):\n",
    "        name, label = self.data[index]\n",
    "        return encode_name(name, N), int(label)\n",
    "    \n",
    "    def __len__(self):\n",
    "        return len(self.data)\n",
    "    \n",
    "#-------------------------------------------------------\n",
    "# DataLoader\n",
    "#-------------------------------------------------------\n",
    "\n",
    "def collate_fn(sequences):\n",
    "    length = max([len(x[0]) for x in sequences])\n",
    "    data = torch.zeros(len(sequences), length)\n",
    "    #data = torch.zeros(len(sequences), length, N)\n",
    "    target = torch.zeros(len(sequences))\n",
    "    for i, (name, label) in enumerate(sequences):\n",
    "        data[i, :len(name)] = name\n",
    "        #data[i, len(name):, 0] = 1 # padding pour s'adapter aux dimensions du batch\n",
    "        data[i, len(name):] = 0\n",
    "        target[i] = label\n",
    "    return data, target\n",
    "        \n",
    "    \n",
    "def get_data_loader(dataset, batch_size):\n",
    "    return DataLoader(dataset=dataset, batch_size=batch_size, shuffle=True, \\\n",
    "                         collate_fn=collate_fn)\n",
    "\n",
    "#-------------------------------------------------------\n",
    "# Split Train Val\n",
    "#-------------------------------------------------------\n",
    "\n",
    "X, y = np.array(L).T\n",
    "Xtrain, Xval, ytrain, yval = train_test_split(X, y)\n",
    "\n",
    "train_set = NameDataset(np.vstack((Xtrain, ytrain)).T)\n",
    "val_set = NameDataset(np.vstack((Xval, yval)).T)\n",
    "\n",
    "train_iter = get_data_loader(train_set, 150)\n",
    "val_iter = get_data_loader(val_set, 150)"
   ]
  },
  {
   "cell_type": "code",
   "execution_count": 5,
   "metadata": {
    "scrolled": true
   },
   "outputs": [
    {
     "data": {
      "text/plain": [
       "'pierre'"
      ]
     },
     "execution_count": 5,
     "metadata": {},
     "output_type": "execute_result"
    }
   ],
   "source": [
    "decode_name(encode_name(\"pierre\", N, 19))"
   ]
  },
  {
   "cell_type": "code",
   "execution_count": 6,
   "metadata": {
    "scrolled": true
   },
   "outputs": [
    {
     "name": "stdout",
     "output_type": "stream",
     "text": [
      "torch.Size([150, 12]) torch.Size([150])\n"
     ]
    }
   ],
   "source": [
    "for x, y in train_iter:\n",
    "    ex, lab = x, y\n",
    "    print(x.shape, y.shape)\n",
    "    break"
   ]
  },
  {
   "cell_type": "markdown",
   "metadata": {},
   "source": [
    "---"
   ]
  },
  {
   "cell_type": "markdown",
   "metadata": {},
   "source": [
    "## Reccurent Neural Network"
   ]
  },
  {
   "cell_type": "markdown",
   "metadata": {},
   "source": [
    "### Modèle"
   ]
  },
  {
   "cell_type": "code",
   "execution_count": 13,
   "metadata": {},
   "outputs": [],
   "source": [
    "class RNN(nn.Module):\n",
    "    def __init__(self, input_size, hidden_size, output_size):\n",
    "        super(RNN, self).__init__()\n",
    "\n",
    "        self.hidden_size = hidden_size\n",
    "        \n",
    "        self.emb = nn.Embedding(27,input_size)\n",
    "        \n",
    "        self.linx = nn.Linear(input_size, hidden_size)\n",
    "        self.linh = nn.Linear(hidden_size, hidden_size)\n",
    "        self.activ = nn.ReLU()\n",
    "        self.liny = nn.Linear(hidden_size, output_size)\n",
    "        \n",
    "    def forward(self, seq):\n",
    "        # seq : (seq_length, batch_size)\n",
    "        \n",
    "        emb_seq = self.emb(seq)\n",
    "        output = self.initHidden()\n",
    "        \n",
    "        for _input in emb_seq:\n",
    "            output = self.activ(self.linx(_input) + self.linh(output))\n",
    "        output = self.liny(output)\n",
    "        \n",
    "        return output\n",
    "\n",
    "    def initHidden(self):\n",
    "        return torch.zeros(1, self.hidden_size)\n",
    "\n",
    "input_size, hidden_size, output_size = 50, 110, len(D)"
   ]
  },
  {
   "cell_type": "code",
   "execution_count": 126,
   "metadata": {
    "scrolled": true
   },
   "outputs": [
    {
     "name": "stdout",
     "output_type": "stream",
     "text": [
      "irvinaaaaaaaa : Czech\n",
      "vyalykhaaaaaa : Czech\n",
      "peersaaaaaaaa : Czech\n",
      "gladunaaaaaaa : Czech\n",
      "charykovaaaaa : Czech\n",
      "simonaaaaaaaa : Czech\n",
      "yafarovaaaaaa : Czech\n",
      "bickleyaaaaaa : Czech\n",
      "doinikovaaaaa : Czech\n",
      "plisaaaaaaaaa : Czech\n",
      "zhekulinaaaaa : Czech\n",
      "tomaaaaaaaaaa : Czech\n",
      "murphyaaaaaaa : Czech\n",
      "demallaaaaaaa : Czech\n",
      "aloaaaaaaaaaa : Czech\n",
      "minamiaaaaaaa : Czech\n",
      "feigenbaumaaa : Czech\n",
      "tsenaaaaaaaaa : Czech\n",
      "bakhshievaaaa : Czech\n",
      "hainaaaaaaaaa : Czech\n",
      "tsarskyaaaaaa : Czech\n",
      "strandaaaaaaa : Czech\n",
      "lebinsonaaaaa : Czech\n",
      "shakhmametiev : Polish\n",
      "leichikaaaaaa : Czech\n",
      "alybinaaaaaaa : Czech\n",
      "valchikovskia : Vietnamese\n",
      "jankevichaaaa : Czech\n",
      "yasuiaaaaaaaa : Czech\n",
      "storraaaaaaaa : Czech\n",
      "ostcliffeaaaa : Czech\n",
      "snowdenaaaaaa : Czech\n",
      "abdildinaaaaa : Czech\n",
      "stiloaaaaaaaa : Czech\n",
      "nusuevaaaaaaa : Czech\n",
      "loweaaaaaaaaa : Czech\n",
      "sutherlandaaa : Czech\n",
      "zherebtsovaaa : Czech\n",
      "werneraaaaaaa : Czech\n",
      "vyrodkovaaaaa : Czech\n",
      "hudoinatovaaa : Czech\n",
      "freestoneaaaa : Czech\n",
      "bambachaaaaaa : Czech\n",
      "backeraaaaaaa : Czech\n",
      "bazjinaaaaaaa : Czech\n",
      "gudkovaaaaaaa : Czech\n",
      "langaaaaaaaaa : Czech\n",
      "sadaaaaaaaaaa : Czech\n",
      "pounderaaaaaa : Czech\n",
      "porvalaaaaaaa : Czech\n",
      "tumaaaaaaaaaa : Czech\n",
      "mikhailjantsa : Czech\n",
      "mayeraaaaaaaa : Czech\n",
      "nosachaaaaaaa : Czech\n",
      "seelenaaaaaaa : Czech\n",
      "aedonitskyaaa : Czech\n",
      "murtazalievaa : Czech\n",
      "hebertaaaaaaa : Czech\n",
      "vogtaaaaaaaaa : Czech\n",
      "natalushkoaaa : Czech\n",
      "takudoaaaaaaa : Czech\n",
      "mordashovaaaa : Czech\n",
      "lezjovaaaaaaa : Czech\n",
      "naderaaaaaaaa : Czech\n",
      "rogersonaaaaa : Czech\n",
      "eastwoodaaaaa : Czech\n",
      "newlandaaaaaa : Czech\n",
      "bazziaaaaaaaa : Czech\n",
      "balakleevskia : Vietnamese\n",
      "sultanaaaaaaa : Czech\n",
      "glagolevskyaa : Vietnamese\n",
      "mendelsohnaaa : Czech\n",
      "haddadaaaaaaa : Czech\n",
      "elepovaaaaaaa : Czech\n",
      "gafurovaaaaaa : Czech\n",
      "chaldymovaaaa : Czech\n",
      "marshakaaaaaa : Czech\n",
      "chavezaaaaaaa : Czech\n",
      "adamskiaaaaaa : Czech\n",
      "strettonaaaaa : Czech\n",
      "thorneaaaaaaa : Czech\n",
      "namikiaaaaaaa : Czech\n",
      "bagrationaaaa : Czech\n",
      "traversiaaaaa : Czech\n",
      "faerberaaaaaa : Czech\n",
      "danaaaaaaaaaa : Czech\n",
      "porokhaaaaaaa : Czech\n",
      "seghersaaaaaa : Czech\n",
      "sayeghaaaaaaa : Czech\n",
      "hudyhaaaaaaaa : Czech\n",
      "jijchenkoaaaa : Czech\n",
      "chizhikaaaaaa : Czech\n",
      "balamutenkoaa : Vietnamese\n",
      "ealyaaaaaaaaa : Czech\n",
      "jabinskyaaaaa : Czech\n",
      "farrellaaaaaa : Czech\n",
      "huskaaaaaaaaa : Czech\n",
      "juzvishinaaaa : Czech\n",
      "nagaiaaaaaaaa : Czech\n",
      "lukhvichaaaaa : Czech\n",
      "abdulgapuroff : Arabic\n",
      "vysokosovaaaa : Czech\n",
      "ryzhovaaaaaaa : Czech\n",
      "burraaaaaaaaa : Czech\n",
      "poplawskiaaaa : Czech\n",
      "meeuwissenaaa : Czech\n",
      "kirwinaaaaaaa : Czech\n",
      "jakunchikovaa : Czech\n",
      "kalinovskyaaa : Czech\n",
      "seeaaaaaaaaaa : Czech\n",
      "krusenaaaaaaa : Czech\n",
      "kilneraaaaaaa : Czech\n",
      "khouryaaaaaaa : Czech\n",
      "fazylzyanovaa : Czech\n",
      "gulievaaaaaaa : Czech\n",
      "bakhmetievaaa : Czech\n",
      "riginaaaaaaaa : Czech\n",
      "obolyaninovaa : Czech\n",
      "rahmetovaaaaa : Czech\n",
      "walsheaaaaaaa : Czech\n",
      "mingaaaaaaaaa : Czech\n",
      "lameaaaaaaaaa : Czech\n",
      "lyonaaaaaaaaa : Czech\n",
      "vyjutovichaaa : Czech\n",
      "vallahaaaaaaa : Czech\n",
      "zitevaaaaaaaa : Czech\n",
      "livshitzaaaaa : Czech\n",
      "vesinaaaaaaaa : Czech\n",
      "foxallaaaaaaa : Czech\n",
      "engmanaaaaaaa : Czech\n",
      "grantaaaaaaaa : Czech\n",
      "harlashenkova : Scottish\n",
      "shaevaaaaaaaa : Czech\n",
      "kniggeaaaaaaa : Czech\n",
      "nahapetovaaaa : Czech\n",
      "chuhadjyanaaa : Czech\n",
      "hirakiaaaaaaa : Czech\n",
      "chekhovichaaa : Czech\n",
      "gluhihaaaaaaa : Czech\n",
      "davidsonaaaaa : Czech\n",
      "qureshiaaaaaa : Czech\n",
      "dagheraaaaaaa : Czech\n",
      "minatoyaaaaaa : Czech\n",
      "awramtchikaaa : Czech\n",
      "kringosaaaaaa : Czech\n",
      "tcharkinaaaaa : Czech\n",
      "alemagnaaaaaa : Czech\n",
      "senaaaaaaaaaa : Czech\n",
      "haradaaaaaaaa : Czech\n",
      "knowlesaaaaaa : Czech\n"
     ]
    }
   ],
   "source": [
    "# TEST\n",
    "model = RNN(input_size, hidden_size, output_size)\n",
    "out = model(ex.transpose(0,1).long())\n",
    "\n",
    "for i, e in enumerate(out):\n",
    "    print(decode_name(ex[i]), \":\", D[e.argmax().item()])"
   ]
  },
  {
   "cell_type": "markdown",
   "metadata": {},
   "source": [
    "### Classification"
   ]
  },
  {
   "cell_type": "code",
   "execution_count": 14,
   "metadata": {},
   "outputs": [],
   "source": [
    "model = RNN(input_size, hidden_size, output_size)\n",
    "loss = nn.CrossEntropyLoss()\n",
    "optim = torch.optim.Adam(model.parameters(), lr=1e-3)\n",
    "n_epochs = 20\n",
    "\n",
    "def accuracy(ypred, y):\n",
    "    ### Calcul du score\n",
    "    return (ypred.argmax(dim=1) == y).float().mean()\n",
    "\n",
    "def fit_eval_rnn(model, loss, optim, train_iter, val_iter, n_epochs):\n",
    "    train_loss = []\n",
    "    train_score = []\n",
    "    val_loss = []\n",
    "    val_score = []\n",
    "\n",
    "    ### APPRENTISSAGE\n",
    "    #--------------------------------------------------------\n",
    "    for i in tqdm(range(n_epochs)):\n",
    "        \n",
    "        model.train()\n",
    "        ####### TRAIN #######\n",
    "        costs_train = []\n",
    "        scores_train = []\n",
    "        for x, l in train_iter:\n",
    "\n",
    "            x = x.transpose(0,1).long()\n",
    "            l = l.long()\n",
    "\n",
    "            out = model(x)\n",
    "            cost = loss(out, l)\n",
    "            optim.zero_grad()\n",
    "            cost.backward()\n",
    "            optim.step()\n",
    "\n",
    "            costs_train.append(cost)\n",
    "            scores_train.append(accuracy(out, l))\n",
    "\n",
    "        train_loss.append(torch.tensor(costs_train).mean())\n",
    "        train_score.append(torch.tensor(scores_train).mean())\n",
    "\n",
    "        model.eval()\n",
    "        ####### VALID #######\n",
    "        costs_val = []\n",
    "        scores_val = []\n",
    "        for x, l in val_iter:\n",
    "            x = x.transpose(0,1).long()\n",
    "            l = l.long()\n",
    "\n",
    "            out = model(x)\n",
    "            cost = loss(out, l)\n",
    "\n",
    "            costs_val.append(cost)\n",
    "            scores_val.append(accuracy(out, l))\n",
    "\n",
    "        val_loss.append(torch.tensor(costs_val).mean())\n",
    "        val_score.append(torch.tensor(scores_val).mean())\n",
    "        \n",
    "    return train_loss, val_loss, train_score, val_score\n",
    "\n",
    "\n",
    "def show_loss_score(train_loss, val_loss, train_score, val_score):\n",
    "    ### AFFICHAGE LOSS ET SCORE\n",
    "    #--------------------------------------------------------\n",
    "    plt.figure(figsize=(10,7))\n",
    "    plt.plot(train_loss, c=\"red\", label=\"train\")\n",
    "    plt.plot(val_loss, c=\"b\", label=\"val\")\n",
    "    plt.legend(loc=\"best\")\n",
    "    plt.show()\n",
    "\n",
    "    plt.figure(figsize=(10,7))\n",
    "    plt.plot(train_score, c=\"red\", label=\"train\")\n",
    "    plt.plot(val_score, c=\"b\", label=\"val\")\n",
    "    plt.legend(loc=\"best\")\n",
    "    plt.show()"
   ]
  },
  {
   "cell_type": "code",
   "execution_count": 173,
   "metadata": {
    "scrolled": false
   },
   "outputs": [
    {
     "name": "stderr",
     "output_type": "stream",
     "text": [
      "100%|██████████████████████████████████████████| 20/20 [04:40<00:00, 13.36s/it]\n"
     ]
    },
    {
     "data": {
      "image/png": "[encoded data removed]",
      "text/plain": [
       "<Figure size 720x504 with 1 Axes>"
      ]
     },
     "metadata": {},
     "output_type": "display_data"
    },
    {
     "data": {
      "image/png": "[encoded data removed]",
      "text/plain": [
       "<Figure size 720x504 with 1 Axes>"
      ]
     },
     "metadata": {},
     "output_type": "display_data"
    }
   ],
   "source": [
    "res = fit_eval_rnn(model, loss, optim, train_iter, val_iter, n_epochs)\n",
    "show_loss_score(*res)"
   ]
  },
  {
   "cell_type": "code",
   "execution_count": 32,
   "metadata": {},
   "outputs": [
    {
     "data": {
      "text/plain": [
       "Counter({'4': 3668,\n",
       "         '14': 9408,\n",
       "         '0': 2000,\n",
       "         '6': 724,\n",
       "         '3': 297,\n",
       "         '8': 232,\n",
       "         '2': 519,\n",
       "         '5': 277,\n",
       "         '10': 991,\n",
       "         '16': 298,\n",
       "         '12': 139,\n",
       "         '7': 203,\n",
       "         '1': 268,\n",
       "         '11': 94,\n",
       "         '9': 709,\n",
       "         '15': 100,\n",
       "         '17': 73,\n",
       "         '13': 74})"
      ]
     },
     "execution_count": 32,
     "metadata": {},
     "output_type": "execute_result"
    }
   ],
   "source": [
    "import collections\n",
    "\n",
    "collections.Counter(list(ytrain)+list(yval))"
   ]
  },
  {
   "cell_type": "markdown",
   "metadata": {},
   "source": [
    "Résultat biaisé car certaines classes contiennent plus d'exemples que d'autres\n",
    "\n",
    "--> Preprocessing nécessaire : rebalancage des classes pour l'apprentissage\n",
    "\n",
    "---"
   ]
  },
  {
   "cell_type": "markdown",
   "metadata": {},
   "source": [
    "## Génération"
   ]
  },
  {
   "cell_type": "markdown",
   "metadata": {},
   "source": [
    "Deux méthodes d'apprentissage possibles :\n",
    "- Apprendre seulement des prénoms d'un pays\n",
    "- Apprentissage générique (tous les pays) --> possiblement en injectant la catégorie (voir tuto Pytorch)\n",
    "\n",
    "Ci-dessous nous utilisons la première méthode."
   ]
  },
  {
   "cell_type": "markdown",
   "metadata": {},
   "source": [
    "### Modèle"
   ]
  },
  {
   "cell_type": "code",
   "execution_count": 15,
   "metadata": {},
   "outputs": [],
   "source": [
    "class RNN2(nn.Module):\n",
    "    def __init__(self, input_size, hidden_size, output_size):\n",
    "        super(RNN2, self).__init__()\n",
    "\n",
    "        self.hidden_size = hidden_size\n",
    "        \n",
    "        self.emb = nn.Embedding(27,input_size)\n",
    "        \n",
    "        self.linx = nn.Linear(input_size, hidden_size)\n",
    "        self.linh = nn.Linear(hidden_size, hidden_size)\n",
    "        self.activ = nn.ReLU()\n",
    "        self.liny = nn.Linear(hidden_size, output_size)\n",
    "        \n",
    "    def forward(self, x, hidden):\n",
    "        # x : (batch_size)\n",
    "        \n",
    "        emb_x = self.emb(x)\n",
    "        hidden = self.activ(self.linx(emb_x) + self.linh(hidden))\n",
    "        output = self.liny(hidden)\n",
    "        \n",
    "        return output, hidden\n",
    "\n",
    "    def initHidden(self):\n",
    "        return torch.zeros(1, self.hidden_size)\n",
    "\n",
    "input_size, hidden_size, output_size = 50, 110, 27\n",
    "model = RNN2(input_size, hidden_size, output_size)"
   ]
  },
  {
   "cell_type": "code",
   "execution_count": 16,
   "metadata": {},
   "outputs": [
    {
     "name": "stdout",
     "output_type": "stream",
     "text": [
      "torch.Size([2, 27]) torch.Size([2, 110])\n"
     ]
    }
   ],
   "source": [
    "# TEST\n",
    "output, hidden = model(torch.tensor([1, 2]), model.initHidden())\n",
    "print(output.shape, hidden.shape)"
   ]
  },
  {
   "cell_type": "markdown",
   "metadata": {},
   "source": [
    "### Apprentissage"
   ]
  },
  {
   "cell_type": "markdown",
   "metadata": {},
   "source": [
    "Commencons par entrainer les prénoms appartenant à un pays spécifique\n",
    "\n",
    "$ \\rightarrow $ Obtenir un Dataset ne contenant que des noms d'un pays"
   ]
  },
  {
   "cell_type": "code",
   "execution_count": 17,
   "metadata": {},
   "outputs": [],
   "source": [
    "def get_dataloaders_country(country, batch_size=32):\n",
    "    L_country = [x for x in L if x[1] == country]\n",
    "\n",
    "    X, y = np.array(L_country).T\n",
    "    Xtrain, Xval, ytrain, yval = train_test_split(X, y)\n",
    "\n",
    "    train_set = NameDataset(np.vstack((Xtrain, ytrain)).T)\n",
    "    val_set = NameDataset(np.vstack((Xval, yval)).T)\n",
    "\n",
    "    train_iter = get_data_loader(train_set, batch_size)\n",
    "    val_iter = get_data_loader(val_set, batch_size)\n",
    "    \n",
    "    return train_iter, val_iter"
   ]
  },
  {
   "cell_type": "code",
   "execution_count": 18,
   "metadata": {},
   "outputs": [],
   "source": [
    "def accuracy(ypred, y):\n",
    "    ### Calcul du score\n",
    "    return (ypred.argmax(dim=1) == y).float().mean()\n",
    "\n",
    "\n",
    "def fit_eval_rnn_gen(model, loss, optim, train_iter, val_iter, n_epochs):\n",
    "    train_loss = []\n",
    "    train_score = []\n",
    "    val_loss = []\n",
    "    val_score = []\n",
    "\n",
    "    ### APPRENTISSAGE\n",
    "    #--------------------------------------------------------\n",
    "    for i in tqdm(range(n_epochs)):\n",
    "        \n",
    "        model.train()\n",
    "        ####### TRAIN #######\n",
    "        costs_train = []\n",
    "        scores_train = []\n",
    "        for x, l in train_iter:\n",
    "\n",
    "            x = x.transpose(0,1).long()\n",
    "            \n",
    "            hidden = model.initHidden()\n",
    "            for i in range(len(x)-1):\n",
    "                c, next_c = x[i], x[i+1]\n",
    "                \n",
    "                out, hidden = model(c, hidden)\n",
    "                cost = loss(out, next_c)\n",
    "                \n",
    "                optim.zero_grad()\n",
    "                cost.backward(retain_graph=True)\n",
    "                optim.step()\n",
    "                \n",
    "\n",
    "                costs_train.append(cost)\n",
    "                scores_train.append(accuracy(out, next_c))\n",
    "\n",
    "        train_loss.append(torch.tensor(costs_train).mean())\n",
    "        train_score.append(torch.tensor(scores_train).mean())\n",
    "\n",
    "        model.eval()\n",
    "        ####### VALID #######\n",
    "        costs_val = []\n",
    "        scores_val = []\n",
    "        for x, l in val_iter:\n",
    "            x = x.transpose(0,1).long()\n",
    "            \n",
    "            hidden = model.initHidden()\n",
    "            for i in range(len(x)-1):\n",
    "                c, next_c = x[i], x[i+1]\n",
    "                \n",
    "                out, hidden = model(c, hidden)\n",
    "                cost = loss(out, next_c)\n",
    "\n",
    "                costs_val.append(cost)\n",
    "                scores_val.append(accuracy(out, next_c))\n",
    "\n",
    "        val_loss.append(torch.tensor(costs_val).mean())\n",
    "        val_score.append(torch.tensor(scores_val).mean())\n",
    "        \n",
    "    return train_loss, val_loss, train_score, val_score"
   ]
  },
  {
   "cell_type": "markdown",
   "metadata": {},
   "source": [
    "Test avec différents pays"
   ]
  },
  {
   "cell_type": "markdown",
   "metadata": {},
   "source": [
    "1. Noms chinois"
   ]
  },
  {
   "cell_type": "code",
   "execution_count": 20,
   "metadata": {},
   "outputs": [
    {
     "name": "stderr",
     "output_type": "stream",
     "text": [
      "100%|██████████████████████████████████████████| 20/20 [00:00<00:00, 30.14it/s]\n"
     ]
    },
    {
     "data": {
      "image/png": "[encoded data removed]",
      "text/plain": [
       "<Figure size 720x504 with 1 Axes>"
      ]
     },
     "metadata": {},
     "output_type": "display_data"
    },
    {
     "data": {
      "image/png": "[encoded data removed]",
      "text/plain": [
       "<Figure size 720x504 with 1 Axes>"
      ]
     },
     "metadata": {},
     "output_type": "display_data"
    }
   ],
   "source": [
    "model = RNN2(input_size, hidden_size, output_size)\n",
    "loss = nn.CrossEntropyLoss()\n",
    "optim = torch.optim.Adam(model.parameters(), lr=1e-3)\n",
    "n_epochs = 20\n",
    "\n",
    "train_iter, val_iter = get_dataloaders_country(11)\n",
    "res = fit_eval_rnn_gen(model, loss, optim, train_iter, val_iter, n_epochs)\n",
    "show_loss_score(*res)"
   ]
  },
  {
   "cell_type": "code",
   "execution_count": 21,
   "metadata": {},
   "outputs": [],
   "source": [
    "def generate_name(model, letter, maxlen=10):\n",
    "    letter = encode_name(letter, 1).long()\n",
    "    s = [letter]\n",
    "    hidden = model.initHidden()\n",
    "    \n",
    "    for i in range(maxlen):\n",
    "        out, hidden = model(letter, hidden)\n",
    "        letter = out.argmax(1)\n",
    "        s.append(letter)\n",
    "    return decode_name(s)"
   ]
  },
  {
   "cell_type": "code",
   "execution_count": 22,
   "metadata": {},
   "outputs": [],
   "source": [
    "alphabet = \"abcdefghijklmnopqrstuvwxyz\""
   ]
  },
  {
   "cell_type": "code",
   "execution_count": 23,
   "metadata": {},
   "outputs": [
    {
     "name": "stdout",
     "output_type": "stream",
     "text": [
      "ang\n",
      "baik\n",
      "cho\n",
      "deon\n",
      "eon\n",
      "fng\n",
      "gu\n",
      "hong\n",
      "im\n",
      "jong\n",
      "koo\n",
      "lee\n",
      "mang\n",
      "noh\n",
      "oo\n",
      "park\n",
      "qoo\n",
      "ryo\n",
      "soo\n",
      "thon\n",
      "ung\n",
      "voo\n",
      "wang\n",
      "xong\n",
      "yoo\n",
      "za\n"
     ]
    }
   ],
   "source": [
    "for l in alphabet:\n",
    "    print(generate_name(model, l, 4))"
   ]
  },
  {
   "cell_type": "markdown",
   "metadata": {},
   "source": [
    "2. Noms français"
   ]
  },
  {
   "cell_type": "code",
   "execution_count": 24,
   "metadata": {},
   "outputs": [
    {
     "name": "stderr",
     "output_type": "stream",
     "text": [
      "100%|██████████████████████████████████████████| 20/20 [00:04<00:00,  4.43it/s]\n"
     ]
    },
    {
     "data": {
      "image/png": "[encoded data removed]",
      "text/plain": [
       "<Figure size 720x504 with 1 Axes>"
      ]
     },
     "metadata": {},
     "output_type": "display_data"
    },
    {
     "data": {
      "image/png": "[encoded data removed]",
      "text/plain": [
       "<Figure size 720x504 with 1 Axes>"
      ]
     },
     "metadata": {},
     "output_type": "display_data"
    },
    {
     "name": "stdout",
     "output_type": "stream",
     "text": [
      "archand\n",
      "bonnay\n",
      "charbonneau\n",
      "desauveterr\n",
      "erreault\n",
      "fabrin\n",
      "gardinier\n",
      "harbonneau\n",
      "iron\n",
      "jartrand\n",
      "kourt\n",
      "lestrange\n",
      "martin\n",
      "nardin\n",
      "ourtin\n",
      "paron\n",
      "ques\n",
      "roy\n",
      "sauvage\n",
      "traver\n",
      "ullon\n",
      "victors\n",
      "wullon\n",
      "xavigne\n",
      "yoult\n",
      "zullins\n"
     ]
    }
   ],
   "source": [
    "model = RNN2(input_size, hidden_size, output_size)\n",
    "loss = nn.CrossEntropyLoss()\n",
    "optim = torch.optim.Adam(model.parameters(), lr=1e-3)\n",
    "n_epochs = 20\n",
    "\n",
    "train_iter, val_iter = get_dataloaders_country(5)\n",
    "res = fit_eval_rnn_gen(model, loss, optim, train_iter, val_iter, n_epochs)\n",
    "show_loss_score(*res)\n",
    "\n",
    "for l in alphabet:\n",
    "    print(generate_name(model, l))"
   ]
  },
  {
   "cell_type": "markdown",
   "metadata": {},
   "source": [
    "3. Noms italiens"
   ]
  },
  {
   "cell_type": "code",
   "execution_count": 25,
   "metadata": {},
   "outputs": [
    {
     "name": "stderr",
     "output_type": "stream",
     "text": [
      "100%|██████████████████████████████████████████| 20/20 [00:11<00:00,  1.73it/s]\n"
     ]
    },
    {
     "data": {
      "image/png": "[encoded data removed]",
      "text/plain": [
       "<Figure size 720x504 with 1 Axes>"
      ]
     },
     "metadata": {},
     "output_type": "display_data"
    },
    {
     "data": {
      "image/png": "[encoded data removed]",
      "text/plain": [
       "<Figure size 720x504 with 1 Axes>"
      ]
     },
     "metadata": {},
     "output_type": "display_data"
    },
    {
     "name": "stdout",
     "output_type": "stream",
     "text": [
      "albricci\n",
      "bassi\n",
      "carano\n",
      "dimaro\n",
      "erraro\n",
      "farri\n",
      "giordano\n",
      "hi\n",
      "ino\n",
      "jicolom\n",
      "kespo\n",
      "lagorio\n",
      "morri\n",
      "nicolosi\n",
      "oresto\n",
      "parri\n",
      "quaro\n",
      "rossi\n",
      "salvasa\n",
      "tessa\n",
      "uggieri\n",
      "vico\n",
      "wucci\n",
      "xutti\n",
      "yino\n",
      "zini\n"
     ]
    }
   ],
   "source": [
    "model = RNN2(input_size, hidden_size, output_size)\n",
    "loss = nn.CrossEntropyLoss()\n",
    "optim = torch.optim.Adam(model.parameters(), lr=1e-3)\n",
    "n_epochs = 20\n",
    "\n",
    "train_iter, val_iter = get_dataloaders_country(9)\n",
    "res = fit_eval_rnn_gen(model, loss, optim, train_iter, val_iter, n_epochs)\n",
    "show_loss_score(*res)\n",
    "\n",
    "for l in alphabet:\n",
    "    print(generate_name(model, l))"
   ]
  },
  {
   "cell_type": "code",
   "execution_count": null,
   "metadata": {},
   "outputs": [],
   "source": [
    "..."
   ]
  },
  {
   "cell_type": "markdown",
   "metadata": {},
   "source": [
    "### Autres méthodes pour la construction des batchs"
   ]
  },
  {
   "cell_type": "code",
   "execution_count": null,
   "metadata": {},
   "outputs": [],
   "source": [
    "..."
   ]
  },
  {
   "cell_type": "code",
   "execution_count": null,
   "metadata": {},
   "outputs": [],
   "source": []
  },
  {
   "cell_type": "code",
   "execution_count": null,
   "metadata": {},
   "outputs": [],
   "source": []
  },
  {
   "cell_type": "code",
   "execution_count": null,
   "metadata": {},
   "outputs": [],
   "source": []
  }
 ],
 "metadata": {
  "kernelspec": {
   "display_name": "Python 3",
   "language": "python",
   "name": "python3"
  },
  "language_info": {
   "codemirror_mode": {
    "name": "ipython",
    "version": 3
   },
   "file_extension": ".py",
   "mimetype": "text/x-python",
   "name": "python",
   "nbconvert_exporter": "python",
   "pygments_lexer": "ipython3",
   "version": "3.6.5"
  }
 },
 "nbformat": 4,
 "nbformat_minor": 2
}

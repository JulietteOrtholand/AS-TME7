{
 "cells": [
  {
   "cell_type": "markdown",
   "metadata": {},
   "source": [
    "# AS - TME7\n",
    "2018--2019\n",
    "\n",
    "---\n",
    "\n",
    "Binome : Juliette Ortholand, Stieban Fernandez"
   ]
  },
  {
   "cell_type": "markdown",
   "metadata": {},
   "source": [
    "Modèles de séquence (réccurents)\n",
    "- Modèle sur les caractères (prédire classe)\n",
    "- Modèle génératif\n",
    "\n",
    "Données Page AS@DAC\n",
    "-> names (classes) :\n",
    "- english.txt\n",
    "- french.txt\n",
    "- italian.txt\n",
    "- ..."
   ]
  },
  {
   "cell_type": "markdown",
   "metadata": {},
   "source": [
    "Chaque caractère en 1-hot -> char-embedding\n",
    "\n",
    "Etat précédent : s0 s1, s2, ... application d'une fonction f\n",
    "\n",
    "+\n",
    "\n",
    "Classifieur\n",
    "\n",
    "On travaille avec des batchs\n",
    "\n",
    "-> remplir caractère vide par 0 par ex\n",
    "\n",
    "---\n",
    "\n",
    "Pour les modèles génératifs : longueur du prénom + 1 caractère pour déterminer la fin de la chaine :\n",
    "\n",
    "Appliquer un masque : 1 s'il y a un caractère (+ caractère de fin) sinon 0\n",
    "\n",
    "-> Prédire à chaque fois l'état (/caractère) suivant.\n",
    "\n",
    "Utilisation : \n",
    "- Est-ce que \"Pierre\" est un prénom anglais ? (Calcul de la vraisemblance)\n",
    "- Générer des prénoms"
   ]
  },
  {
   "cell_type": "markdown",
   "metadata": {},
   "source": [
    "---\n",
    "\n",
    "Parcourir les fichiers du répértoire avec glob('*.txt')"
   ]
  },
  {
   "cell_type": "markdown",
   "metadata": {},
   "source": [
    "## Préparation des données"
   ]
  },
  {
   "cell_type": "code",
   "execution_count": 2,
   "metadata": {},
   "outputs": [],
   "source": [
    "import torch\n",
    "import torch.nn as nn\n",
    "from unidecode import unidecode\n",
    "\n",
    "from torch.utils.data import Dataset, DataLoader\n",
    "import torchvision\n",
    "from torchvision import transforms\n",
    "\n",
    "import matplotlib.pyplot as plt"
   ]
  },
  {
   "cell_type": "code",
   "execution_count": 3,
   "metadata": {},
   "outputs": [],
   "source": [
    "from pathlib import Path\n",
    "\n",
    "#-------------------------------------------------------\n",
    "# Extraction des noms et labels\n",
    "#-------------------------------------------------------\n",
    "gen = Path(\"data/names\").glob(\"*.txt\")\n",
    "\n",
    "L = [] # [(nom, pays), ...]\n",
    "D = {} # {label(int): pays, ...}\n",
    "for label, file in enumerate(gen):\n",
    "    D[label] = file.stem\n",
    "    \n",
    "    with open(str(file), \"r\", encoding=\"utf-8\") as f:\n",
    "        names = f.read().split(\"\\n\")[:-1]\n",
    "    for name in names:\n",
    "        # Nettoyage\n",
    "        name = \"\".join([c for c in unidecode(name.lower()) if c.isalpha()])\n",
    "        L.append((name, label))\n",
    "\n",
    "#-------------------------------------------------------\n",
    "# Encodage\n",
    "#-------------------------------------------------------\n",
    "N = 27 # nombre de caractères différents pour le one hot\n",
    "\n",
    "code_char = lambda x: ord(x)-96\n",
    "\n",
    "decode_char = lambda x: chr(x+96)\n",
    "\n",
    "def encode_name(name, N, M=None):\n",
    "    # N : taille d'un vecteur one hot\n",
    "    # M : padding\n",
    "    res = torch.zeros((M if M!=None and M>len(name) else len(name)))\n",
    "    #res = torch.zeros((M if M!=None and M>len(name) else len(name)), N)\n",
    "    for i, c in enumerate(name):\n",
    "        res[i] = code_char(c)\n",
    "        #res[i, code_char(c)] = 1\n",
    "    res[len(name):] = 1\n",
    "    #res[len(name):, 0] = 1\n",
    "    return res\n",
    "\n",
    "def decode_name(indxs):\n",
    "    return \"\".join([decode_char(indx) for indx in indxs if indx!=1])\n",
    "    #return \"\".join([decode_char(indx.argmax()) for indx in indxs if indx[0]!=1])\n",
    "\n",
    "#-------------------------------------------------------\n",
    "# Construction du DataSet \n",
    "#-------------------------------------------------------\n",
    "class NameDataset(Dataset):\n",
    "    def __init__(self, data):\n",
    "        self.data = data\n",
    "    \n",
    "    def __getitem__(self, index):\n",
    "        name, label = self.data[index]\n",
    "        return encode_name(name, N), int(label)\n",
    "    \n",
    "    def __len__(self):\n",
    "        return len(self.data)\n",
    "    \n",
    "#-------------------------------------------------------\n",
    "# DataLoader\n",
    "#-------------------------------------------------------\n",
    "\n",
    "def collate_fn(sequences):\n",
    "    length = max([len(x[0]) for x in sequences])\n",
    "    data = torch.zeros(len(sequences), length)\n",
    "    #data = torch.zeros(len(sequences), length, N)\n",
    "    target = torch.zeros(len(sequences))\n",
    "    for i, (name, label) in enumerate(sequences):\n",
    "        data[i, :len(name)] = name\n",
    "        #data[i, len(name):, 0] = 1 # padding pour s'adapter aux dimensions du batch\n",
    "        data[i, len(name):] = 1\n",
    "        target[i] = label\n",
    "    return data, target\n",
    "        \n",
    "    \n",
    "def get_data_loader(dataset, batch_size):\n",
    "    return DataLoader(dataset=dataset, batch_size=batch_size, shuffle=True, \\\n",
    "                         collate_fn=collate_fn)\n",
    "\n",
    "#-------------------------------------------------------\n",
    "# Split Train Val\n",
    "#-------------------------------------------------------\n",
    "\n",
    "import numpy as np\n",
    "from sklearn.model_selection import train_test_split\n",
    "\n",
    "X, y = np.array(L).T\n",
    "Xtrain, Xval, ytrain, yval = train_test_split(X, y)\n",
    "\n",
    "train_set = NameDataset(np.vstack((Xtrain, ytrain)).T)\n",
    "val_set = NameDataset(np.vstack((Xval, yval)).T)\n",
    "\n",
    "train_iter = get_data_loader(train_set, 150)\n",
    "val_iter = get_data_loader(val_set, 150)"
   ]
  },
  {
   "cell_type": "code",
   "execution_count": 4,
   "metadata": {
    "scrolled": true
   },
   "outputs": [
    {
     "data": {
      "text/plain": [
       "'pierre'"
      ]
     },
     "execution_count": 4,
     "metadata": {},
     "output_type": "execute_result"
    }
   ],
   "source": [
    "decode_name(encode_name(\"pierre\", N, 19))"
   ]
  },
  {
   "cell_type": "code",
   "execution_count": 5,
   "metadata": {
    "scrolled": true
   },
   "outputs": [
    {
     "name": "stdout",
     "output_type": "stream",
     "text": [
      "torch.Size([150, 13]) torch.Size([150])\n",
      "torch.Size([150, 14]) torch.Size([150])\n",
      "torch.Size([150, 14]) torch.Size([150])\n",
      "torch.Size([150, 12]) torch.Size([150])\n",
      "torch.Size([150, 14]) torch.Size([150])\n",
      "torch.Size([150, 14]) torch.Size([150])\n",
      "torch.Size([150, 13]) torch.Size([150])\n",
      "torch.Size([150, 14]) torch.Size([150])\n",
      "torch.Size([150, 13]) torch.Size([150])\n",
      "torch.Size([150, 14]) torch.Size([150])\n",
      "torch.Size([150, 12]) torch.Size([150])\n",
      "torch.Size([150, 15]) torch.Size([150])\n",
      "torch.Size([150, 14]) torch.Size([150])\n",
      "torch.Size([150, 13]) torch.Size([150])\n",
      "torch.Size([150, 19]) torch.Size([150])\n",
      "torch.Size([150, 13]) torch.Size([150])\n",
      "torch.Size([150, 14]) torch.Size([150])\n",
      "torch.Size([150, 14]) torch.Size([150])\n",
      "torch.Size([150, 14]) torch.Size([150])\n",
      "torch.Size([150, 16]) torch.Size([150])\n",
      "torch.Size([150, 12]) torch.Size([150])\n",
      "torch.Size([150, 11]) torch.Size([150])\n",
      "torch.Size([150, 14]) torch.Size([150])\n",
      "torch.Size([150, 13]) torch.Size([150])\n",
      "torch.Size([150, 14]) torch.Size([150])\n",
      "torch.Size([150, 15]) torch.Size([150])\n",
      "torch.Size([150, 17]) torch.Size([150])\n",
      "torch.Size([150, 14]) torch.Size([150])\n",
      "torch.Size([150, 14]) torch.Size([150])\n",
      "torch.Size([150, 14]) torch.Size([150])\n",
      "torch.Size([150, 13]) torch.Size([150])\n",
      "torch.Size([150, 14]) torch.Size([150])\n",
      "torch.Size([150, 14]) torch.Size([150])\n",
      "torch.Size([150, 13]) torch.Size([150])\n",
      "torch.Size([150, 13]) torch.Size([150])\n",
      "torch.Size([150, 14]) torch.Size([150])\n",
      "torch.Size([150, 14]) torch.Size([150])\n",
      "torch.Size([150, 12]) torch.Size([150])\n",
      "torch.Size([150, 14]) torch.Size([150])\n",
      "torch.Size([150, 13]) torch.Size([150])\n",
      "torch.Size([150, 12]) torch.Size([150])\n",
      "torch.Size([150, 15]) torch.Size([150])\n",
      "torch.Size([150, 12]) torch.Size([150])\n",
      "torch.Size([150, 13]) torch.Size([150])\n",
      "torch.Size([150, 13]) torch.Size([150])\n",
      "torch.Size([150, 15]) torch.Size([150])\n",
      "torch.Size([150, 12]) torch.Size([150])\n",
      "torch.Size([150, 13]) torch.Size([150])\n",
      "torch.Size([150, 14]) torch.Size([150])\n",
      "torch.Size([150, 13]) torch.Size([150])\n",
      "torch.Size([150, 14]) torch.Size([150])\n",
      "torch.Size([150, 14]) torch.Size([150])\n",
      "torch.Size([150, 13]) torch.Size([150])\n",
      "torch.Size([150, 15]) torch.Size([150])\n",
      "torch.Size([150, 17]) torch.Size([150])\n",
      "torch.Size([150, 13]) torch.Size([150])\n",
      "torch.Size([150, 13]) torch.Size([150])\n",
      "torch.Size([150, 14]) torch.Size([150])\n",
      "torch.Size([150, 16]) torch.Size([150])\n",
      "torch.Size([150, 14]) torch.Size([150])\n",
      "torch.Size([150, 13]) torch.Size([150])\n",
      "torch.Size([150, 15]) torch.Size([150])\n",
      "torch.Size([150, 12]) torch.Size([150])\n",
      "torch.Size([150, 14]) torch.Size([150])\n",
      "torch.Size([150, 14]) torch.Size([150])\n",
      "torch.Size([150, 17]) torch.Size([150])\n",
      "torch.Size([150, 12]) torch.Size([150])\n",
      "torch.Size([150, 14]) torch.Size([150])\n",
      "torch.Size([150, 11]) torch.Size([150])\n",
      "torch.Size([150, 14]) torch.Size([150])\n",
      "torch.Size([150, 13]) torch.Size([150])\n",
      "torch.Size([150, 13]) torch.Size([150])\n",
      "torch.Size([150, 12]) torch.Size([150])\n",
      "torch.Size([150, 15]) torch.Size([150])\n",
      "torch.Size([150, 14]) torch.Size([150])\n",
      "torch.Size([150, 12]) torch.Size([150])\n",
      "torch.Size([150, 14]) torch.Size([150])\n",
      "torch.Size([150, 13]) torch.Size([150])\n",
      "torch.Size([150, 13]) torch.Size([150])\n",
      "torch.Size([150, 15]) torch.Size([150])\n",
      "torch.Size([150, 14]) torch.Size([150])\n",
      "torch.Size([150, 15]) torch.Size([150])\n",
      "torch.Size([150, 12]) torch.Size([150])\n",
      "torch.Size([150, 14]) torch.Size([150])\n",
      "torch.Size([150, 14]) torch.Size([150])\n",
      "torch.Size([150, 13]) torch.Size([150])\n",
      "torch.Size([150, 13]) torch.Size([150])\n",
      "torch.Size([150, 14]) torch.Size([150])\n",
      "torch.Size([150, 14]) torch.Size([150])\n",
      "torch.Size([150, 13]) torch.Size([150])\n",
      "torch.Size([150, 12]) torch.Size([150])\n",
      "torch.Size([150, 13]) torch.Size([150])\n",
      "torch.Size([150, 13]) torch.Size([150])\n",
      "torch.Size([150, 12]) torch.Size([150])\n",
      "torch.Size([150, 14]) torch.Size([150])\n",
      "torch.Size([150, 18]) torch.Size([150])\n",
      "torch.Size([150, 16]) torch.Size([150])\n",
      "torch.Size([150, 14]) torch.Size([150])\n",
      "torch.Size([150, 14]) torch.Size([150])\n",
      "torch.Size([150, 14]) torch.Size([150])\n",
      "torch.Size([55, 12]) torch.Size([55])\n"
     ]
    }
   ],
   "source": [
    "for x, y in train_iter:\n",
    "    ex, lab = x, y\n",
    "    print(x.shape, y.shape)"
   ]
  },
  {
   "cell_type": "markdown",
   "metadata": {},
   "source": [
    "---"
   ]
  },
  {
   "cell_type": "markdown",
   "metadata": {},
   "source": [
    "## Construction du modèle"
   ]
  },
  {
   "cell_type": "code",
   "execution_count": 18,
   "metadata": {},
   "outputs": [],
   "source": [
    "class RNN(nn.Module):\n",
    "    def __init__(self, input_size, hidden_size, output_size):\n",
    "        super(RNN, self).__init__()\n",
    "\n",
    "        self.hidden_size = hidden_size\n",
    "        \n",
    "        self.emb = nn.Embedding(27,input_size)\n",
    "        \n",
    "        self.linx = nn.Linear(input_size, hidden_size)\n",
    "        self.linh = nn.Linear(hidden_size, hidden_size)\n",
    "        self.activ = nn.ReLU()\n",
    "        self.liny = nn.Linear(hidden_size, output_size)\n",
    "        \n",
    "    def forward(self, seq):\n",
    "        # seq : (seq_length, batch_size)\n",
    "        \n",
    "        emb_seq = self.emb(seq)\n",
    "        output = self.initHidden()\n",
    "        \n",
    "        for _input in emb_seq:\n",
    "            output = self.activ(self.linx(_input) + self.linh(output))\n",
    "        output = self.liny(output)\n",
    "        \n",
    "        return output\n",
    "\n",
    "    def initHidden(self):\n",
    "        return torch.zeros(1, self.hidden_size)\n",
    "\n",
    "input_size, hidden_size, output_size = 50, 110, len(D)\n",
    "model = RNN(input_size, hidden_size, output_size)"
   ]
  },
  {
   "cell_type": "code",
   "execution_count": 12,
   "metadata": {
    "scrolled": true
   },
   "outputs": [
    {
     "name": "stdout",
     "output_type": "stream",
     "text": [
      "torch.Size([55, 50])\n",
      "torch.Size([55, 50])\n",
      "torch.Size([55, 50])\n",
      "torch.Size([55, 50])\n",
      "torch.Size([55, 50])\n",
      "torch.Size([55, 50])\n",
      "torch.Size([55, 50])\n",
      "torch.Size([55, 50])\n",
      "torch.Size([55, 50])\n",
      "torch.Size([55, 50])\n",
      "torch.Size([55, 50])\n",
      "torch.Size([55, 50])\n",
      "lyrschikov : Vietnamese\n",
      "gn : Vietnamese\n",
      "bsr : Vietnamese\n",
      "trukhnin : Vietnamese\n",
      "stroggylis : Vietnamese\n",
      "okzwy : Vietnamese\n",
      "tiyeh : Vietnamese\n",
      "wirth : Vietnamese\n",
      "durnd : Vietnamese\n",
      "tugi : Vietnamese\n",
      "ykubonis : Vietnamese\n",
      "gnem : Vietnamese\n",
      "kempf : Vietnamese\n",
      "preece : Vietnamese\n",
      "ykovkin : Vietnamese\n",
      "bt : Vietnamese\n",
      "koustoubos : Vietnamese\n",
      "curtis : Vietnamese\n",
      "sntoro : Vietnamese\n",
      "jblontzev : Vietnamese\n",
      "dovbyschuk : Vietnamese\n",
      "boutros : Vietnamese\n",
      "hnrets : Vietnamese\n",
      "mumldze : Vietnamese\n",
      "greenwy : Vietnamese\n",
      "slib : Vietnamese\n",
      "pennders : Vietnamese\n",
      "bvin : Vietnamese\n",
      "lmill : Vietnamese\n",
      "judelevich : Vietnamese\n",
      "wtters : Vietnamese\n",
      "vinnitsky : Vietnamese\n",
      "mozhrtsev : Vietnamese\n",
      "rodriguez : Vietnamese\n",
      "stevenson : Vietnamese\n",
      "guirguis : Vietnamese\n",
      "brhm : Vietnamese\n",
      "utyshev : Vietnamese\n",
      "ynkov : Vietnamese\n",
      "zhurvliov : Vietnamese\n",
      "shhtmeister : English\n",
      "juferev : Vietnamese\n",
      "hyes : Vietnamese\n",
      "ocsek : Vietnamese\n",
      "dodson : Vietnamese\n",
      "jgup : Vietnamese\n",
      "mcre : Vietnamese\n",
      "gwozdek : Vietnamese\n",
      "sbbg : Vietnamese\n",
      "eley : Vietnamese\n",
      "rogers : Vietnamese\n",
      "velovsky : Vietnamese\n",
      "kinshit : Vietnamese\n",
      "minkovich : Vietnamese\n",
      "mikhilynts : Vietnamese\n"
     ]
    }
   ],
   "source": [
    "# TEST\n",
    "\n",
    "out = model(ex.transpose(0,1).long())\n",
    "\n",
    "for i, e in enumerate(out):\n",
    "    print(decode_name(ex[i]), \":\", D[e.argmax().item()])"
   ]
  },
  {
   "cell_type": "markdown",
   "metadata": {},
   "source": [
    "---"
   ]
  },
  {
   "cell_type": "markdown",
   "metadata": {},
   "source": [
    "## Classification"
   ]
  },
  {
   "cell_type": "code",
   "execution_count": 25,
   "metadata": {},
   "outputs": [],
   "source": [
    "model = RNN(input_size, hidden_size, output_size)\n",
    "loss = nn.CrossEntropyLoss()\n",
    "optim = torch.optim.Adam(model.parameters(), lr=1e-3)\n",
    "n_epochs = 20\n",
    "\n",
    "def accuracy(ypred, y):\n",
    "    ### Calcul du score\n",
    "    return (ypred.argmax(dim=1) == y).float().mean()\n",
    "\n",
    "def fit_eval_rnn(model, loss, optim, train_iter, val_iter, n_epochs):\n",
    "    train_loss = []\n",
    "    train_score = []\n",
    "    val_loss = []\n",
    "    val_score = []\n",
    "\n",
    "    ### APPRENTISSAGE\n",
    "    #--------------------------------------------------------\n",
    "    for i in range(n_epochs):\n",
    "        \n",
    "        model.train()\n",
    "        ####### TRAIN #######\n",
    "        costs_train = []\n",
    "        scores_train = []\n",
    "        for x, l in train_iter:\n",
    "\n",
    "            x = x.transpose(0,1).long()\n",
    "            l = l.long()\n",
    "\n",
    "            out = model(x)\n",
    "            cost = loss(out, l)\n",
    "            optim.zero_grad()\n",
    "            cost.backward()\n",
    "            optim.step()\n",
    "\n",
    "            costs_train.append(cost)\n",
    "            scores_train.append(accuracy(out, l))\n",
    "\n",
    "        train_loss.append(torch.tensor(costs_train).mean())\n",
    "        train_score.append(torch.tensor(scores_train).mean())\n",
    "\n",
    "        model.eval()\n",
    "        ####### VALID #######\n",
    "        costs_val = []\n",
    "        scores_val = []\n",
    "        for x, l in val_iter:\n",
    "            x = x.transpose(0,1).long()\n",
    "            l = l.long()\n",
    "\n",
    "            out = model(x)\n",
    "            cost = loss(out, l)\n",
    "\n",
    "            costs_val.append(cost)\n",
    "            scores_val.append(accuracy(out, l))\n",
    "\n",
    "        val_loss.append(torch.tensor(costs_val).mean())\n",
    "        val_score.append(torch.tensor(scores_val).mean())\n",
    "        \n",
    "    return train_loss, val_loss, train_score, val_score\n",
    "\n",
    "\n",
    "def show_loss_score(train_loss, val_loss, train_score, val_score):\n",
    "    ### AFFICHAGE LOSS ET SCORE\n",
    "    #--------------------------------------------------------\n",
    "    plt.figure(figsize=(10,7))\n",
    "    plt.plot(train_loss, c=\"red\", label=\"train\")\n",
    "    plt.plot(val_loss, c=\"b\", label=\"val\")\n",
    "    plt.legend(loc=\"best\")\n",
    "    plt.show()\n",
    "\n",
    "    plt.figure(figsize=(10,7))\n",
    "    plt.plot(train_score, c=\"red\", label=\"train\")\n",
    "    plt.plot(val_score, c=\"b\", label=\"val\")\n",
    "    plt.legend(loc=\"best\")\n",
    "    plt.show()"
   ]
  },
  {
   "cell_type": "code",
   "execution_count": 26,
   "metadata": {
    "scrolled": false
   },
   "outputs": [
    {
     "data": {
      "image/png": "[encoded data removed]",
      "text/plain": [
       "<Figure size 720x504 with 1 Axes>"
      ]
     },
     "metadata": {},
     "output_type": "display_data"
    },
    {
     "data": {
      "image/png": "[encoded data removed]",
      "text/plain": [
       "<Figure size 720x504 with 1 Axes>"
      ]
     },
     "metadata": {},
     "output_type": "display_data"
    }
   ],
   "source": [
    "res = fit_eval_rnn(model, loss, optim, train_iter, val_iter, n_epochs)\n",
    "show_loss_score(*res)"
   ]
  },
  {
   "cell_type": "code",
   "execution_count": 32,
   "metadata": {},
   "outputs": [
    {
     "data": {
      "text/plain": [
       "Counter({'4': 3668,\n",
       "         '14': 9408,\n",
       "         '0': 2000,\n",
       "         '6': 724,\n",
       "         '3': 297,\n",
       "         '8': 232,\n",
       "         '2': 519,\n",
       "         '5': 277,\n",
       "         '10': 991,\n",
       "         '16': 298,\n",
       "         '12': 139,\n",
       "         '7': 203,\n",
       "         '1': 268,\n",
       "         '11': 94,\n",
       "         '9': 709,\n",
       "         '15': 100,\n",
       "         '17': 73,\n",
       "         '13': 74})"
      ]
     },
     "execution_count": 32,
     "metadata": {},
     "output_type": "execute_result"
    }
   ],
   "source": [
    "import collections\n",
    "\n",
    "collections.Counter(list(ytrain)+list(yval))"
   ]
  },
  {
   "cell_type": "markdown",
   "metadata": {},
   "source": [
    "Résultat biaisé car certaines classes contiennent plus d'exemples que d'autres\n",
    "\n",
    "--> Preprocessing nécessaire : rebalancage des classes pour l'apprentissage"
   ]
  },
  {
   "cell_type": "markdown",
   "metadata": {},
   "source": [
    "## Génération"
   ]
  },
  {
   "cell_type": "code",
   "execution_count": null,
   "metadata": {},
   "outputs": [],
   "source": []
  }
 ],
 "metadata": {
  "kernelspec": {
   "display_name": "Python 3",
   "language": "python",
   "name": "python3"
  },
  "language_info": {
   "codemirror_mode": {
    "name": "ipython",
    "version": 3
   },
   "file_extension": ".py",
   "mimetype": "text/x-python",
   "name": "python",
   "nbconvert_exporter": "python",
   "pygments_lexer": "ipython3",
   "version": "3.6.5"
  }
 },
 "nbformat": 4,
 "nbformat_minor": 2
}

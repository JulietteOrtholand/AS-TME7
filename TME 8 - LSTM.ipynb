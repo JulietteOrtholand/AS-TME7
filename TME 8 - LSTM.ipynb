{
 "cells": [
  {
   "cell_type": "markdown",
   "metadata": {},
   "source": [
    "# AS - TME6\n",
    "2018-2019\n",
    "\n",
    "Binome : Stieban Fernandez, Juliette Ortholand\n",
    "\n",
    "---"
   ]
  },
  {
   "cell_type": "markdown",
   "metadata": {},
   "source": [
    "Préparation des données"
   ]
  },
  {
   "cell_type": "code",
   "execution_count": 1,
   "metadata": {},
   "outputs": [],
   "source": [
    "import sys\n",
    "sys.path.insert(0, \"/users/Enseignants/baskiotis/.local/lib/python3.5/site-packages\")"
   ]
  },
  {
   "cell_type": "code",
   "execution_count": 2,
   "metadata": {},
   "outputs": [
    {
     "name": "stderr",
     "output_type": "stream",
     "text": [
      "C:\\ProgramData\\Anaconda3\\lib\\site-packages\\h5py\\__init__.py:36: FutureWarning: Conversion of the second argument of issubdtype from `float` to `np.floating` is deprecated. In future, it will be treated as `np.float64 == np.dtype(float).type`.\n",
      "  from ._conv import register_converters as _register_converters\n"
     ]
    }
   ],
   "source": [
    "import logging\n",
    "import torchtext\n",
    "import torchtext.datasets as datasets\n",
    "import torchtext.data as data\n",
    "import torch.nn as nn\n",
    "import torch\n",
    "\n",
    "import tensorboard\n",
    "import tensorboardX\n",
    "import tensorflow\n",
    "import spacy\n",
    "import nltk"
   ]
  },
  {
   "cell_type": "code",
   "execution_count": 3,
   "metadata": {},
   "outputs": [
    {
     "name": "stderr",
     "output_type": "stream",
     "text": [
      "The `device` argument should be set by using `torch.device` or passing a string as an argument. This behavior will be deprecated soon and currently defaults to cpu.\n",
      "The `device` argument should be set by using `torch.device` or passing a string as an argument. This behavior will be deprecated soon and currently defaults to cpu.\n",
      "The `device` argument should be set by using `torch.device` or passing a string as an argument. This behavior will be deprecated soon and currently defaults to cpu.\n"
     ]
    }
   ],
   "source": [
    "DATA_DIR=\"C:\\\\Users\\\\Juliette\\\\Documents\\\\data_as\"\n",
    "\n",
    "DATASET_DIR=\"%s/datasets\" % DATA_DIR\n",
    "VECTORS_DIR=\"%s/vectors\" % DATA_DIR\n",
    "\n",
    "# text\n",
    "TEXT=data.ReversibleField(lower=True,include_lengths=False,batch_first=True)\n",
    "LABEL = data.Field(sequential=False, is_target=True)\n",
    "\n",
    "# make splits for data\n",
    "train, val, test = datasets.sst.SST.splits(TEXT, LABEL,root=DATASET_DIR)\n",
    "\n",
    "# Use the vocabulary\n",
    "wordemb = torchtext.vocab.GloVe(\"6B\", dim=100, cache=VECTORS_DIR)\n",
    "# Build the vocabularies\n",
    "# for labels, we use special_first to False so <unk> is last\n",
    "# (to discard it)\n",
    "TEXT.build_vocab(train, vectors=wordemb)\n",
    "LABEL.build_vocab(train, specials_first=False)\n",
    "train_iter, val_iter, test_iter = data.BucketIterator.splits(\n",
    "(train, val, test), batch_size=1000, device=0)\n",
    "\n",
    "nn_embeddings = nn.Embedding.from_pretrained(TEXT.vocab.vectors)"
   ]
  },
  {
   "cell_type": "code",
   "execution_count": 4,
   "metadata": {},
   "outputs": [
    {
     "data": {
      "text/plain": [
       "torch.Size([15381, 100])"
      ]
     },
     "execution_count": 4,
     "metadata": {},
     "output_type": "execute_result"
    }
   ],
   "source": [
    "TEXT.vocab.vectors.shape"
   ]
  },
  {
   "cell_type": "code",
   "execution_count": 5,
   "metadata": {},
   "outputs": [
    {
     "data": {
      "text/plain": [
       "Embedding(15381, 100)"
      ]
     },
     "execution_count": 5,
     "metadata": {},
     "output_type": "execute_result"
    }
   ],
   "source": [
    "nn_embeddings"
   ]
  },
  {
   "cell_type": "code",
   "execution_count": 6,
   "metadata": {},
   "outputs": [
    {
     "name": "stdout",
     "output_type": "stream",
     "text": [
      "tensor([[   3,  126,  993,    4,  358,  469,   15,   84, 2464,    4,  675,    5,\n",
      "          202,    6,  563,   14, 9142,    3,   20,    4,    6,   44,  246,    4,\n",
      "         4763,   13,    8,    5, 1760,  539,   23,    2,    1,    1,    1,    1,\n",
      "            1,    1,    1,    1,    1,    1,    1,    1,    1,    1,    1,    1,\n",
      "            1,    1,    1,    1,    1,    1,    1]])\n",
      "['a big , loud , bang-the-drum bore .']\n",
      "tensor([[  670,    17,    27,   156,     8, 13722,     3,  6522,     7,  1885,\n",
      "             9,    11,   737,     4,  1243,    13,    46,   203,   276,     8,\n",
      "           919,     5,    94,   258,     4,  1013,     4,   464,     6,   199,\n",
      "          3054,   288,     7,    20,   325,     2,     1,     1,     1,     1,\n",
      "             1,     1,     1,     1,     1,     1,     1,     1,     1,     1,\n",
      "             1,     1,     1,     1]])\n",
      "['speaks eloquently about the symbiotic relationship between art and life .']\n",
      "tensor([[   5,  284,   35,    9, 1653,   35, 3199,  127,    6,   25, 4429,  215,\n",
      "           34,   26, 5416,   10,   62,   79,    2,    1,    1,    1,    1,    1,\n",
      "            1,    1,    1,    1,    1,    1,    1,    1,    1,    1,    1,    1,\n",
      "            1,    1,    1,    1,    1,    1,    1,    1,    1,    1,    1,    1,\n",
      "            1,    1,    1,    1,    1,    1,    1,    1,    1,    1,    1,    1,\n",
      "            1,    1]])\n",
      "[\"i like all four of the lead actors a lot and they manage to squeeze a few laughs out of the material , but they 're treading water at best in this forgettable effort .\"]\n",
      "tensor([[1597,  527, 1472, 1103, 1822, 4494,    9,   11, 1372,   91,   62,   22,\n",
      "            5,  979,  127,    2,    1,    1,    1,    1,    1,    1,    1,    1,\n",
      "            1,    1,    1,    1,    1,    1,    1,    1,    1,    1,    1,    1,\n",
      "            1,    1,    1,    1,    1,    1,    1,    1,    1,    1,    1,    1,\n",
      "            1,    1,    1,    1,    1,    1,    1,    1,    1,    1,    1]])\n",
      "['but then again , i hate myself most mornings .']\n",
      "tensor([[ 5403,   234,     5,  1424,   862,    45, 13403,    34,     3,   998,\n",
      "             7, 14727,  8990,   118,     3,  1118,  5575,  6747,    21,    26,\n",
      "           917,     2,     1,     1,     1,     1,     1,     1,     1,     1,\n",
      "             1,     1,     1,     1,     1,     1,     1,     1,     1,     1,\n",
      "             1,     1,     1,     1,     1,     1,     1,     1,     1,     1,\n",
      "             1,     1,     1,     1]])\n",
      "[\"maybe it is formula filmmaking , but there 's nothing wrong with that if the film is well-crafted and this one is .\"]\n",
      "tensor([[  22,    5,   20,   14,    9,   11,  144, 4424,   17,    5,   70,    4,\n",
      "          293,  366, 1796,   12,   30,   31,   29,   17,   81,   17,   27,    9,\n",
      "          280, 2732,    2,    1,    1,    1,    1,    1,    1,    1,    1,    1,\n",
      "            1,    1,    1,    1,    1,    1,    1,    1,    1,    1,    1,    1,\n",
      "            1,    1,    1,    1,    1,    1,    1,    1,    1,    1,    1,    1]])\n",
      "[\"upsetting and thought-provoking , the film has an odd purity that does n't bring you into the characters so much as it has you study them .\"]\n",
      "tensor([[   5,   85, 4096,  113,   48,  634,    5,  148,   87,    2,    1,    1,\n",
      "            1,    1,    1,    1,    1,    1,    1,    1,    1,    1,    1,    1,\n",
      "            1,    1,    1,    1,    1,    1,    1,    1,    1,    1,    1,    1,\n",
      "            1,    1,    1,    1,    1,    1,    1,    1,    1,    1,    1,    1,\n",
      "            1,    1,    1,    1,    1,    1,    1,    1,    1,    1,    1]])\n",
      "['limps along on a squirm-inducing fish-out-of-water formula that goes nowhere and goes there very , very slowly .']\n",
      "tensor([[ 1306,     6, 10908,  1000,     4,     6,   169,    66,   843,   305,\n",
      "             2,     1,     1,     1,     1,     1,     1,     1,     1,     1,\n",
      "             1,     1,     1,     1,     1,     1,     1,     1,     1,     1,\n",
      "             1,     1,     1,     1,     1,     1,     1,     1,     1,     1,\n",
      "             1,     1,     1,     1,     1,     1,     1,     1,     1,     1,\n",
      "             1,     1,     1,     1,     1]])\n",
      "['the storytelling may be ordinary , but the cast is one of those all-star reunions that fans of gosford park have come to assume is just another day of brit cinema .']\n",
      "tensor([[  24,   12,    3,  537,    7,    5, 7450,  343,  144, 1475,   38,    5,\n",
      "          171,   14,  268,  184, 3035,    6,  308,    8, 4988,    3,  508,    7,\n",
      "          436,   15,    3,  162,    2,    1,    1,    1,    1,    1,    1,    1,\n",
      "            1,    1,    1,    1,    1,    1,    1,    1,    1,    1,    1,    1,\n",
      "            1,    1,    1,    1,    1,    1,    1,    1,    1,    1,    1,    1,\n",
      "            1,    1,    1,    1]])\n",
      "[\"it 's quite an achievement to set and shoot a movie at the cannes film festival and yet fail to capture its visual appeal or its atmosphere .\"]\n"
     ]
    }
   ],
   "source": [
    "for batch in train_iter:\n",
    "        t = batch.text # batch_size phrases de max nb mots (taille variable), reste du vecteur complété par 1\n",
    "        l = batch.label # catégorie de la phrase \n",
    "        x = nn_embeddings(t).transpose(1,2) # shape : (batch_size, input_channels, nb_mots_max)\n",
    "        print(t[:1])\n",
    "        orig_text = TEXT.reverse(t[2:3])\n",
    "        print(orig_text)"
   ]
  },
  {
   "cell_type": "markdown",
   "metadata": {},
   "source": [
    "Test"
   ]
  },
  {
   "cell_type": "code",
   "execution_count": 14,
   "metadata": {},
   "outputs": [],
   "source": [
    "class LSTM(nn.Module):\n",
    "    \n",
    "    def __init__(self,inputsize,hidden_size,output_size):\n",
    "        super(ConvNet1, self).__init__()\n",
    "        \n",
    "        #Couches\n",
    "        self.linF = [nn.Linear(inputsize, hidden_size),nn.Linear(hidden_size, hidden_size)]\n",
    "        self.linI = [nn.Linear(inputsize, hidden_size),nn.Linear(hidden_size, hidden_size)]\n",
    "        self.linC = [nn.Linear(inputsize, hidden_size),nn.Linear(hidden_size, hidden_size)]\n",
    "        self.linO = [nn.Linear(inputsize, hidden_size),nn.Linear(hidden_size, hidden_size)]\n",
    "        self.linOp = nn.Linear(hidden_size, hidden_size)\n",
    "        self.sigmoid = nn.sigmoid()\n",
    "        self.tanh = nn.tanh()\n",
    "        self.class = nn.Linear(hidden_size, output_size)\n",
    "        #Variables\n",
    "        self.hidden_size = hidden_size\n",
    "    \n",
    "    def forward(self, X):\n",
    "        c, h = self.initHidden()\n",
    "        for _input in X:            \n",
    "            #Bloc 1\n",
    "            tmp2 = self.sigmoid(self.linF[0](h)+self.linF[1](_input))\n",
    "            \n",
    "            #Bloc 2\n",
    "            tmp3 = self.sigmoid(self.linI[0](h)+self.linI[1](_input)) \\\n",
    "                    * self.tanh(self.linC[0](h)+self.linC[1](_input))\n",
    "            \n",
    "            #Application\n",
    "            c = (c * tmp2)+ tmp3\n",
    "            \n",
    "            #Bloc 3 \n",
    "            h = self.sigmoid(self.linO[0](h)+self.linO[1](_input)) * self.tanh(self.linOp(c))\n",
    "        \n",
    "        out = self.class(h)                                     \n",
    "                                                          \n",
    "        return out\n",
    "    \n",
    "    def initHidden(self):\n",
    "        return torch.zeros(1, self.hidden_size),torch.zeros(1, self.hidden_size)\n",
    "    \n",
    "    \n",
    "    def score(self,ypred,y):\n",
    "        score = 0\n",
    "        if len(y) != len(ypred):\n",
    "            print('ERREUR')\n",
    "        for i in range(0,len(y)):\n",
    "            if y[i] == ypred[i].argmax():\n",
    "                score += 1\n",
    "        return(score/len(y))"
   ]
  },
  {
   "cell_type": "code",
   "execution_count": 15,
   "metadata": {},
   "outputs": [
    {
     "name": "stdout",
     "output_type": "stream",
     "text": [
      "0\n",
      "1\n",
      "2\n",
      "3\n",
      "4\n",
      "5\n",
      "6\n",
      "7\n",
      "8\n",
      "9\n"
     ]
    }
   ],
   "source": [
    "model = ConvNet1()\n",
    "loss = nn.CrossEntropyLoss()\n",
    "optim = torch.optim.SGD(model.parameters(), lr=1e-3, momentum=0.9)\n",
    "\n",
    "train_loss = []\n",
    "val_loss = []\n",
    "\n",
    "train_score = []\n",
    "val_score = []\n",
    "\n",
    "\n",
    "### Train\n",
    "#--------------------------------------------------------\n",
    "for i in range(10):\n",
    "    print(i)\n",
    "    ####### TRAIN #######\n",
    "    costs_train = []\n",
    "    scores_train = []\n",
    "    for batch in train_iter:\n",
    "        t = batch.text # batch_size phrases de max nb mots (taille variable), reste du vecteur complété par 1\n",
    "        l = batch.label # vecteur de 10 \n",
    "        x = nn_embeddings(t).transpose(1,2) # shape : (batch_size, input_channels, nb_mots_max)\n",
    "\n",
    "        out = model(x)\n",
    "        cost = loss(out, l)\n",
    "        optim.zero_grad()\n",
    "        cost.backward()\n",
    "        optim.step()\n",
    "        costs_train.append(cost)\n",
    "        scores_train.append(model.score(out, l))\n",
    "    train_loss.append(torch.tensor(costs_train).mean())\n",
    "    train_score.append(torch.tensor(scores_train).mean())\n",
    "    \n",
    "    ####### VALID #######\n",
    "    costs_val = []\n",
    "    scores_val = []\n",
    "    for k, batch_test in enumerate(test_iter):\n",
    "        t_test = batch_test.text \n",
    "        l_test = batch_test.label \n",
    "        x_test = nn_embeddings(t_test).transpose(1,2)\n",
    "\n",
    "        out_test = model(x_test)\n",
    "        cost_test = loss(out_test, l_test)\n",
    "        costs_val.append(cost_test)\n",
    "        scores_val.append(model.score(out_test,l_test))\n",
    "    val_score.append(torch.tensor(scores_val).mean())\n",
    "    val_loss.append(torch.tensor(costs_val).mean())\n"
   ]
  },
  {
   "cell_type": "code",
   "execution_count": 9,
   "metadata": {},
   "outputs": [
    {
     "data": {
      "text/plain": [
       "<Figure size 1000x700 with 1 Axes>"
      ]
     },
     "metadata": {},
     "output_type": "display_data"
    }
   ],
   "source": [
    "import matplotlib.pyplot as plt\n",
    "\n",
    "plt.figure(figsize=(10,7))\n",
    "plt.plot(train_loss, c=\"red\", label=\"train\")\n",
    "plt.plot(val_loss, c=\"b\", label=\"val\")\n",
    "plt.legend(loc=\"best\")\n",
    "plt.show()"
   ]
  },
  {
   "cell_type": "code",
   "execution_count": 10,
   "metadata": {},
   "outputs": [
    {
     "data": {
      "image/png": "[encoded data removed]",
      "text/plain": [
       "<Figure size 720x504 with 1 Axes>"
      ]
     },
     "metadata": {},
     "output_type": "display_data"
    }
   ],
   "source": [
    "import matplotlib.pyplot as plt\n",
    "\n",
    "plt.figure(figsize=(10,7))\n",
    "plt.plot(train_score, c=\"red\", label=\"train\")\n",
    "plt.plot(val_score, c=\"b\", label=\"val\")\n",
    "plt.legend(loc=\"best\")\n",
    "plt.show()"
   ]
  },
  {
   "cell_type": "code",
   "execution_count": 11,
   "metadata": {},
   "outputs": [
    {
     "name": "stdout",
     "output_type": "stream",
     "text": [
      "tensor(0.3778)\n",
      "tensor(1.0765)\n"
     ]
    }
   ],
   "source": [
    "costs_val = []\n",
    "scores_val = []\n",
    "for i, batch in enumerate(val_iter):\n",
    "    t = batch.text \n",
    "    l = batch.label \n",
    "    x = nn_embeddings(t).transpose(1,2)\n",
    "\n",
    "    out = model(x)\n",
    "    cost = loss(out, l)\n",
    "    costs_val.append(cost)\n",
    "    scores_val.append(model.score(out, l))\n",
    "print(torch.tensor(scores_val).mean())\n",
    "print(torch.tensor(costs_val).mean())"
   ]
  },
  {
   "cell_type": "markdown",
   "metadata": {},
   "source": [
    "Que se passe-t-il dans un CNN?\n",
    "- Etude des filtres\n",
    "\n",
    "Travail en batch\n",
    "\n",
    "Chaque vecteur correspond a un filtre\n",
    "\n",
    "Remonter l'information de position, savoir a quelle portion de l'entrée le vecteur fait référence\n",
    "\n",
    "- Pour chaque phrase, pour chaque composante : max \n",
    "- Quels sont les bouts de séquence qui activent le plus le filtre\n",
    "- $(w_i, s_i) \\rightarrow (w,s) \\rightarrow (w_o, s_o)$ : voir le stride\n",
    "- la $j_ième$ sortie correspond à ($j s_o$)... ($j s_o + w_o - 1$)\n",
    "\n",
    "Qu'est ce qui explique ma classification ?\n",
    "\n",
    "Quelles sont les parties de ma phrase qui définissent ce qui est positif, negatif, etc\n",
    "\n",
    "Conv -> max pooling (1 vecteur en sortie) -> softmax\n",
    "\n",
    "ex : Comment varie l'embedding par rapport à la sortie\n",
    "\n",
    "- Gradient de la sortie correspondante dans le module linéaire au niveau de softmax le softmax par rapport à l'entrée x\n",
    "- Si on s'apercçoit que les dérivées sont fortes --> importance\n",
    "\n",
    "norme du gradient de X par rapport au $j_ième$ vecteur (ne pas oublier requires_grad=True)"
   ]
  },
  {
   "cell_type": "markdown",
   "metadata": {},
   "source": [
    "Construction d'un réseau"
   ]
  },
  {
   "cell_type": "code",
   "execution_count": 46,
   "metadata": {},
   "outputs": [
    {
     "data": {
      "text/plain": [
       "Parameter containing:\n",
       "tensor([[[-0.0006,  0.0215,  0.0179],\n",
       "         [-0.0152,  0.0186,  0.0448],\n",
       "         [-0.0487,  0.0577,  0.0520],\n",
       "         ...,\n",
       "         [-0.0169,  0.0085, -0.0069],\n",
       "         [ 0.0288, -0.0336,  0.0259],\n",
       "         [-0.0533,  0.0347,  0.0032]],\n",
       "\n",
       "        [[ 0.0437, -0.0335,  0.0232],\n",
       "         [ 0.0326,  0.0050,  0.0340],\n",
       "         [-0.0534, -0.0062,  0.0287],\n",
       "         ...,\n",
       "         [-0.0218,  0.0131, -0.0524],\n",
       "         [ 0.0246,  0.0025,  0.0561],\n",
       "         [ 0.0504,  0.0492, -0.0481]],\n",
       "\n",
       "        [[ 0.0211,  0.0237, -0.0508],\n",
       "         [ 0.0046, -0.0282, -0.0494],\n",
       "         [ 0.0175, -0.0165,  0.0125],\n",
       "         ...,\n",
       "         [-0.0139,  0.0368, -0.0545],\n",
       "         [ 0.0278, -0.0410, -0.0319],\n",
       "         [ 0.0494,  0.0356,  0.0325]],\n",
       "\n",
       "        ...,\n",
       "\n",
       "        [[-0.0369, -0.0216, -0.0466],\n",
       "         [-0.0316, -0.0408, -0.0082],\n",
       "         [ 0.0198, -0.0186, -0.0024],\n",
       "         ...,\n",
       "         [-0.0470,  0.0311, -0.0069],\n",
       "         [-0.0112,  0.0474, -0.0062],\n",
       "         [ 0.0281, -0.0129,  0.0342]],\n",
       "\n",
       "        [[-0.0266,  0.0040,  0.0245],\n",
       "         [-0.0114,  0.0348,  0.0528],\n",
       "         [ 0.0125, -0.0027,  0.0107],\n",
       "         ...,\n",
       "         [ 0.0267,  0.0063,  0.0314],\n",
       "         [-0.0292, -0.0113, -0.0567],\n",
       "         [ 0.0461, -0.0550, -0.0251]],\n",
       "\n",
       "        [[ 0.0022, -0.0568,  0.0557],\n",
       "         [ 0.0569,  0.0350, -0.0363],\n",
       "         [-0.0556, -0.0018,  0.0347],\n",
       "         ...,\n",
       "         [ 0.0055,  0.0301,  0.0215],\n",
       "         [-0.0428,  0.0014, -0.0157],\n",
       "         [-0.0240, -0.0500, -0.0436]]], requires_grad=True)"
      ]
     },
     "execution_count": 46,
     "metadata": {},
     "output_type": "execute_result"
    }
   ],
   "source": [
    "model.conv1[0].weight"
   ]
  },
  {
   "cell_type": "code",
   "execution_count": 29,
   "metadata": {},
   "outputs": [
    {
     "name": "stderr",
     "output_type": "stream",
     "text": [
      "Clipping input data to the valid range for imshow with RGB data ([0..1] for floats or [0..255] for integers).\n"
     ]
    },
    {
     "data": {
      "text/plain": [
       "<matplotlib.image.AxesImage at 0x25ee5d4eeb8>"
      ]
     },
     "execution_count": 29,
     "metadata": {},
     "output_type": "execute_result"
    },
    {
     "data": {
      "image/png": "[encoded data removed]",
      "text/plain": [
       "<Figure size 432x288 with 1 Axes>"
      ]
     },
     "metadata": {},
     "output_type": "display_data"
    }
   ],
   "source": [
    "plt.imshow(model.conv1[0].weight.detach().numpy())"
   ]
  },
  {
   "cell_type": "markdown",
   "metadata": {},
   "source": [
    "# Phrases qui activent le plus le filtre"
   ]
  },
  {
   "cell_type": "code",
   "execution_count": 89,
   "metadata": {},
   "outputs": [],
   "source": [
    "import copy \n",
    "import numpy as np\n",
    "\n",
    "def extract_sentences(out,t, TEXT, k,f):\n",
    "    '''out: srtie de la convolution\n",
    "       t: les phrase en mot de ton batch\n",
    "       TEXT: fait le lien avec l'ensemble des données\n",
    "       k: le nombre de phrase\n",
    "       f: le filtre à étudier'''\n",
    "    out_mean = copy.copy(out).detach().numpy()\n",
    "    out_test = out_mean[:,f]\n",
    "    out_test = np.amax(out_test, axis=1)\n",
    "    print(out_test.shape)\n",
    "    list_sentences = []\n",
    "    plt.imshow(out_mean[:20,f])\n",
    "    plt.show()\n",
    "    for i in range(k):\n",
    "        m = out_test.argmax()\n",
    "        print(out_mean[m,f].argmax())\n",
    "        sentence = TEXT.reverse(t[m:m+1].data)\n",
    "        list_sentences.append(sentence)\n",
    "        plt.imshow(out_mean[m,f:f+1])\n",
    "        plt.show()\n",
    "        print(sentence)\n",
    "        out_test[m] = -1\n",
    "        \n",
    "    return list_sentences"
   ]
  },
  {
   "cell_type": "code",
   "execution_count": 108,
   "metadata": {},
   "outputs": [
    {
     "name": "stdout",
     "output_type": "stream",
     "text": [
      "torch.Size([1000, 3, 50])\n",
      "tensor([[[ 0.0000, -0.0000, -0.0000,  ...,  0.0000,  0.0000,  0.0000],\n",
      "         [ 0.0000, -0.0000,  0.0000,  ...,  0.0000,  0.0000,  0.0000],\n",
      "         [ 0.0000, -0.0000, -0.0000,  ...,  0.0000,  0.0000,  0.0000],\n",
      "         ...,\n",
      "         [ 0.0000, -0.0000, -0.0000,  ...,  0.0000,  0.0000,  0.0000],\n",
      "         [ 0.0000, -0.0000,  0.0000,  ...,  0.0000,  0.0000,  0.0000],\n",
      "         [ 0.0000, -0.0000,  0.0000,  ...,  0.0000,  0.0000,  0.0000]],\n",
      "\n",
      "        [[-0.0000, -0.0000,  0.0000,  ...,  0.0000,  0.0000,  0.0000],\n",
      "         [-0.0000,  0.0000,  0.0000,  ...,  0.0000,  0.0000,  0.0000],\n",
      "         [ 0.0000, -0.0000,  0.0000,  ...,  0.0000,  0.0000,  0.0000],\n",
      "         ...,\n",
      "         [-0.0000, -0.0000, -0.0000,  ...,  0.0000,  0.0000,  0.0000],\n",
      "         [-0.0000,  0.0000, -0.0000,  ...,  0.0000,  0.0000,  0.0000],\n",
      "         [ 0.0000,  0.0000,  0.0000,  ...,  0.0000,  0.0000,  0.0000]],\n",
      "\n",
      "        [[ 0.0000, -0.0000, -0.0000,  ...,  0.0000,  0.0000,  0.0000],\n",
      "         [ 0.0000, -0.0000,  0.0000,  ...,  0.0000,  0.0000,  0.0000],\n",
      "         [ 0.0000,  0.0000, -0.0000,  ...,  0.0000,  0.0000,  0.0000],\n",
      "         ...,\n",
      "         [ 0.0000, -0.0000, -0.0000,  ...,  0.0000,  0.0000,  0.0000],\n",
      "         [ 0.0000, -0.0000,  0.0000,  ...,  0.0000,  0.0000,  0.0000],\n",
      "         [ 0.0000,  0.0000,  0.0000,  ...,  0.0000,  0.0000,  0.0000]],\n",
      "\n",
      "        ...,\n",
      "\n",
      "        [[ 0.0000,  0.0000, -0.0000,  ...,  0.0000,  0.0000,  0.0000],\n",
      "         [ 0.0000,  0.0000, -0.0000,  ...,  0.0000,  0.0000,  0.0000],\n",
      "         [ 0.0000,  0.0000,  0.0000,  ...,  0.0000,  0.0000,  0.0000],\n",
      "         ...,\n",
      "         [ 0.0000,  0.0000, -0.0000,  ...,  0.0000,  0.0000,  0.0000],\n",
      "         [ 0.0000,  0.0000, -0.0000,  ...,  0.0000,  0.0000,  0.0000],\n",
      "         [ 0.0000,  0.0000,  0.0000,  ...,  0.0000,  0.0000,  0.0000]],\n",
      "\n",
      "        [[-0.0000,  0.0000,  0.0000,  ...,  0.0000,  0.0000,  0.0000],\n",
      "         [ 0.0000,  0.0000,  0.0000,  ...,  0.0000,  0.0000,  0.0000],\n",
      "         [-0.0000,  0.0000, -0.0000,  ...,  0.0000,  0.0000,  0.0000],\n",
      "         ...,\n",
      "         [-0.0000,  0.0000,  0.0000,  ...,  0.0000,  0.0000,  0.0000],\n",
      "         [ 0.0000, -0.0000,  0.0000,  ...,  0.0000,  0.0000,  0.0000],\n",
      "         [-0.0000,  0.0000,  0.0000,  ...,  0.0000,  0.0000,  0.0000]],\n",
      "\n",
      "        [[-0.0000, -0.0000,  0.0000,  ...,  0.0000,  0.0000,  0.0000],\n",
      "         [-0.0000,  0.0000, -0.0000,  ...,  0.0000,  0.0000,  0.0000],\n",
      "         [ 0.0000, -0.0000,  0.0000,  ...,  0.0000,  0.0000,  0.0000],\n",
      "         ...,\n",
      "         [-0.0000, -0.0000, -0.0000,  ...,  0.0000,  0.0000,  0.0000],\n",
      "         [-0.0000,  0.0000, -0.0000,  ...,  0.0000,  0.0000,  0.0000],\n",
      "         [ 0.0000,  0.0000,  0.0000,  ...,  0.0000,  0.0000,  0.0000]]])\n"
     ]
    }
   ],
   "source": [
    "for batch in train_iter:\n",
    "        t = batch.text # batch_size phrases de max nb mots (taille variable), reste du vecteur complété par 1\n",
    "        l = batch.label # catégorie de la phrase \n",
    "        x = nn_embeddings(t).transpose(1,2) # shape : (batch_size, input_channels, nb_mots_max)\n",
    "        out = model.conv1(x)\n",
    "        print(out.shape)\n",
    "        #list_sentences = extract_sentences(out,t, TEXT, 2,0)\n",
    "        #list_sentences = extract_sentences(out,t, TEXT, 2,1)\n",
    "        #list_sentences = extract_sentences(out,t, TEXT, 1,2)\n",
    "        x.requires_grad = True\n",
    "        tt = model(x)\n",
    "        cost = loss(tt, l)\n",
    "        cost.backward()\n",
    "        print(x.grad)\n",
    "        break\n"
   ]
  },
  {
   "cell_type": "code",
   "execution_count": null,
   "metadata": {},
   "outputs": [],
   "source": []
  },
  {
   "cell_type": "code",
   "execution_count": null,
   "metadata": {},
   "outputs": [],
   "source": []
  }
 ],
 "metadata": {
  "kernelspec": {
   "display_name": "Python 3",
   "language": "python",
   "name": "python3"
  },
  "language_info": {
   "codemirror_mode": {
    "name": "ipython",
    "version": 3
   },
   "file_extension": ".py",
   "mimetype": "text/x-python",
   "name": "python",
   "nbconvert_exporter": "python",
   "pygments_lexer": "ipython3",
   "version": "3.6.5"
  }
 },
 "nbformat": 4,
 "nbformat_minor": 2
}
